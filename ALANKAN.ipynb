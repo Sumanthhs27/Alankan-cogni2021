{
  "nbformat": 4,
  "nbformat_minor": 0,
  "metadata": {
    "colab": {
      "name": "ALANKAN.ipynb",
      "provenance": [],
      "collapsed_sections": [],
      "toc_visible": true
    },
    "kernelspec": {
      "name": "python3",
      "display_name": "Python 3"
    },
    "language_info": {
      "name": "python"
    },
    "accelerator": "TPU"
  },
  "cells": [
    {
      "cell_type": "markdown",
      "metadata": {
        "id": "cOlrjmZceiVH"
      },
      "source": [
        "## PREAMBLE"
      ]
    },
    {
      "cell_type": "code",
      "metadata": {
        "id": "cFTxwETTcN05"
      },
      "source": [
        "import pandas as pd\n",
        "import numpy as np\n",
        "import matplotlib.pyplot as plt\n",
        "%matplotlib inline\n",
        "\n",
        "import seaborn as sns\n",
        "from sklearn.preprocessing import MinMaxScaler\n",
        "from sklearn.model_selection import train_test_split\n",
        "\n",
        "from sklearn.metrics import f1_score, accuracy_score, confusion_matrix, recall_score"
      ],
      "execution_count": 77,
      "outputs": []
    },
    {
      "cell_type": "markdown",
      "metadata": {
        "id": "iOsLcg9leptc"
      },
      "source": [
        "## DATA PREPROCESSING"
      ]
    },
    {
      "cell_type": "markdown",
      "metadata": {
        "id": "e09jiPKsezPO"
      },
      "source": [
        "## DATA"
      ]
    },
    {
      "cell_type": "code",
      "metadata": {
        "id": "v30eS1pleyaN"
      },
      "source": [
        "df = pd.read_csv(\"Invistico_Airline - Invistico_Airline.csv\")"
      ],
      "execution_count": 78,
      "outputs": []
    },
    {
      "cell_type": "code",
      "metadata": {
        "id": "uNy9-5YTeyrm",
        "colab": {
          "base_uri": "https://localhost:8080/",
          "height": 341
        },
        "outputId": "cc5dea74-157b-4349-856d-703353285ad3"
      },
      "source": [
        "df.tail()"
      ],
      "execution_count": 79,
      "outputs": [
        {
          "output_type": "execute_result",
          "data": {
            "text/html": [
              "<div>\n",
              "<style scoped>\n",
              "    .dataframe tbody tr th:only-of-type {\n",
              "        vertical-align: middle;\n",
              "    }\n",
              "\n",
              "    .dataframe tbody tr th {\n",
              "        vertical-align: top;\n",
              "    }\n",
              "\n",
              "    .dataframe thead th {\n",
              "        text-align: right;\n",
              "    }\n",
              "</style>\n",
              "<table border=\"1\" class=\"dataframe\">\n",
              "  <thead>\n",
              "    <tr style=\"text-align: right;\">\n",
              "      <th></th>\n",
              "      <th>satisfaction</th>\n",
              "      <th>Gender</th>\n",
              "      <th>Customer Type</th>\n",
              "      <th>Age</th>\n",
              "      <th>Type of Travel</th>\n",
              "      <th>Class</th>\n",
              "      <th>Flight Distance</th>\n",
              "      <th>Seat comfort</th>\n",
              "      <th>Departure/Arrival time convenient</th>\n",
              "      <th>Food and drink</th>\n",
              "      <th>Gate location</th>\n",
              "      <th>Inflight wifi service</th>\n",
              "      <th>Inflight entertainment</th>\n",
              "      <th>Online support</th>\n",
              "      <th>Ease of Online booking</th>\n",
              "      <th>On-board service</th>\n",
              "      <th>Leg room service</th>\n",
              "      <th>Baggage handling</th>\n",
              "      <th>Checkin service</th>\n",
              "      <th>Cleanliness</th>\n",
              "      <th>Online boarding</th>\n",
              "      <th>Departure Delay in Minutes</th>\n",
              "      <th>Arrival Delay in Minutes</th>\n",
              "    </tr>\n",
              "  </thead>\n",
              "  <tbody>\n",
              "    <tr>\n",
              "      <th>129875</th>\n",
              "      <td>satisfied</td>\n",
              "      <td>Female</td>\n",
              "      <td>disloyal Customer</td>\n",
              "      <td>29</td>\n",
              "      <td>Personal Travel</td>\n",
              "      <td>Eco</td>\n",
              "      <td>1731</td>\n",
              "      <td>5</td>\n",
              "      <td>5</td>\n",
              "      <td>5</td>\n",
              "      <td>3</td>\n",
              "      <td>2</td>\n",
              "      <td>5</td>\n",
              "      <td>2</td>\n",
              "      <td>2</td>\n",
              "      <td>3</td>\n",
              "      <td>3</td>\n",
              "      <td>4</td>\n",
              "      <td>4</td>\n",
              "      <td>4</td>\n",
              "      <td>2</td>\n",
              "      <td>0</td>\n",
              "      <td>0.0</td>\n",
              "    </tr>\n",
              "    <tr>\n",
              "      <th>129876</th>\n",
              "      <td>dissatisfied</td>\n",
              "      <td>Male</td>\n",
              "      <td>disloyal Customer</td>\n",
              "      <td>63</td>\n",
              "      <td>Personal Travel</td>\n",
              "      <td>Business</td>\n",
              "      <td>2087</td>\n",
              "      <td>2</td>\n",
              "      <td>3</td>\n",
              "      <td>2</td>\n",
              "      <td>4</td>\n",
              "      <td>2</td>\n",
              "      <td>1</td>\n",
              "      <td>1</td>\n",
              "      <td>3</td>\n",
              "      <td>2</td>\n",
              "      <td>3</td>\n",
              "      <td>3</td>\n",
              "      <td>1</td>\n",
              "      <td>2</td>\n",
              "      <td>1</td>\n",
              "      <td>174</td>\n",
              "      <td>172.0</td>\n",
              "    </tr>\n",
              "    <tr>\n",
              "      <th>129877</th>\n",
              "      <td>dissatisfied</td>\n",
              "      <td>Male</td>\n",
              "      <td>disloyal Customer</td>\n",
              "      <td>69</td>\n",
              "      <td>Personal Travel</td>\n",
              "      <td>Eco</td>\n",
              "      <td>2320</td>\n",
              "      <td>3</td>\n",
              "      <td>0</td>\n",
              "      <td>3</td>\n",
              "      <td>3</td>\n",
              "      <td>3</td>\n",
              "      <td>2</td>\n",
              "      <td>2</td>\n",
              "      <td>4</td>\n",
              "      <td>4</td>\n",
              "      <td>3</td>\n",
              "      <td>4</td>\n",
              "      <td>2</td>\n",
              "      <td>3</td>\n",
              "      <td>2</td>\n",
              "      <td>155</td>\n",
              "      <td>163.0</td>\n",
              "    </tr>\n",
              "    <tr>\n",
              "      <th>129878</th>\n",
              "      <td>dissatisfied</td>\n",
              "      <td>Male</td>\n",
              "      <td>disloyal Customer</td>\n",
              "      <td>66</td>\n",
              "      <td>Personal Travel</td>\n",
              "      <td>Eco</td>\n",
              "      <td>2450</td>\n",
              "      <td>3</td>\n",
              "      <td>2</td>\n",
              "      <td>3</td>\n",
              "      <td>2</td>\n",
              "      <td>3</td>\n",
              "      <td>2</td>\n",
              "      <td>2</td>\n",
              "      <td>3</td>\n",
              "      <td>3</td>\n",
              "      <td>2</td>\n",
              "      <td>3</td>\n",
              "      <td>2</td>\n",
              "      <td>1</td>\n",
              "      <td>2</td>\n",
              "      <td>193</td>\n",
              "      <td>205.0</td>\n",
              "    </tr>\n",
              "    <tr>\n",
              "      <th>129879</th>\n",
              "      <td>dissatisfied</td>\n",
              "      <td>Female</td>\n",
              "      <td>disloyal Customer</td>\n",
              "      <td>38</td>\n",
              "      <td>Personal Travel</td>\n",
              "      <td>Eco</td>\n",
              "      <td>4307</td>\n",
              "      <td>3</td>\n",
              "      <td>4</td>\n",
              "      <td>3</td>\n",
              "      <td>3</td>\n",
              "      <td>3</td>\n",
              "      <td>3</td>\n",
              "      <td>3</td>\n",
              "      <td>4</td>\n",
              "      <td>5</td>\n",
              "      <td>5</td>\n",
              "      <td>5</td>\n",
              "      <td>3</td>\n",
              "      <td>3</td>\n",
              "      <td>3</td>\n",
              "      <td>185</td>\n",
              "      <td>186.0</td>\n",
              "    </tr>\n",
              "  </tbody>\n",
              "</table>\n",
              "</div>"
            ],
            "text/plain": [
              "        satisfaction  ... Arrival Delay in Minutes\n",
              "129875     satisfied  ...                      0.0\n",
              "129876  dissatisfied  ...                    172.0\n",
              "129877  dissatisfied  ...                    163.0\n",
              "129878  dissatisfied  ...                    205.0\n",
              "129879  dissatisfied  ...                    186.0\n",
              "\n",
              "[5 rows x 23 columns]"
            ]
          },
          "metadata": {
            "tags": []
          },
          "execution_count": 79
        }
      ]
    },
    {
      "cell_type": "code",
      "metadata": {
        "id": "D0zpzZQEeyoK",
        "colab": {
          "base_uri": "https://localhost:8080/"
        },
        "outputId": "76cdea7e-a6cf-47af-94f8-d38dca57cd70"
      },
      "source": [
        "df.shape[0]  #total dataset input count"
      ],
      "execution_count": 80,
      "outputs": [
        {
          "output_type": "execute_result",
          "data": {
            "text/plain": [
              "129880"
            ]
          },
          "metadata": {
            "tags": []
          },
          "execution_count": 80
        }
      ]
    },
    {
      "cell_type": "code",
      "metadata": {
        "id": "VvpjB1WLeylQ",
        "colab": {
          "base_uri": "https://localhost:8080/"
        },
        "outputId": "4b7b66d6-fe58-46dd-ef98-c1d1c5481afa"
      },
      "source": [
        "df.shape[1]  #total number of features (including target variable)"
      ],
      "execution_count": 81,
      "outputs": [
        {
          "output_type": "execute_result",
          "data": {
            "text/plain": [
              "23"
            ]
          },
          "metadata": {
            "tags": []
          },
          "execution_count": 81
        }
      ]
    },
    {
      "cell_type": "markdown",
      "metadata": {
        "id": "5rH308ojetPN"
      },
      "source": [
        "1. To check for total null values"
      ]
    },
    {
      "cell_type": "code",
      "metadata": {
        "id": "ZLl6HSXAeh2-",
        "colab": {
          "base_uri": "https://localhost:8080/"
        },
        "outputId": "428d2771-8948-49f1-ba60-db475d0f12a2"
      },
      "source": [
        "df.isnull().sum()"
      ],
      "execution_count": 82,
      "outputs": [
        {
          "output_type": "execute_result",
          "data": {
            "text/plain": [
              "satisfaction                           0\n",
              "Gender                                 0\n",
              "Customer Type                          0\n",
              "Age                                    0\n",
              "Type of Travel                         0\n",
              "Class                                  0\n",
              "Flight Distance                        0\n",
              "Seat comfort                           0\n",
              "Departure/Arrival time convenient      0\n",
              "Food and drink                         0\n",
              "Gate location                          0\n",
              "Inflight wifi service                  0\n",
              "Inflight entertainment                 0\n",
              "Online support                         0\n",
              "Ease of Online booking                 0\n",
              "On-board service                       0\n",
              "Leg room service                       0\n",
              "Baggage handling                       0\n",
              "Checkin service                        0\n",
              "Cleanliness                            0\n",
              "Online boarding                        0\n",
              "Departure Delay in Minutes             0\n",
              "Arrival Delay in Minutes             393\n",
              "dtype: int64"
            ]
          },
          "metadata": {
            "tags": []
          },
          "execution_count": 82
        }
      ]
    },
    {
      "cell_type": "code",
      "metadata": {
        "id": "yh5OIKPMemFw"
      },
      "source": [
        "\"\"\" to eliminate the data where the single null value occurs \"\"\"\n",
        "df_notnull = df[df['Arrival Delay in Minutes'].notna()]\n",
        "\n"
      ],
      "execution_count": 83,
      "outputs": []
    },
    {
      "cell_type": "code",
      "metadata": {
        "id": "iaeTIrAW6q-h",
        "colab": {
          "base_uri": "https://localhost:8080/"
        },
        "outputId": "f985aaf1-3841-48b9-bf8e-7334095b1587"
      },
      "source": [
        "df_notnull.isnull().sum()"
      ],
      "execution_count": 84,
      "outputs": [
        {
          "output_type": "execute_result",
          "data": {
            "text/plain": [
              "satisfaction                         0\n",
              "Gender                               0\n",
              "Customer Type                        0\n",
              "Age                                  0\n",
              "Type of Travel                       0\n",
              "Class                                0\n",
              "Flight Distance                      0\n",
              "Seat comfort                         0\n",
              "Departure/Arrival time convenient    0\n",
              "Food and drink                       0\n",
              "Gate location                        0\n",
              "Inflight wifi service                0\n",
              "Inflight entertainment               0\n",
              "Online support                       0\n",
              "Ease of Online booking               0\n",
              "On-board service                     0\n",
              "Leg room service                     0\n",
              "Baggage handling                     0\n",
              "Checkin service                      0\n",
              "Cleanliness                          0\n",
              "Online boarding                      0\n",
              "Departure Delay in Minutes           0\n",
              "Arrival Delay in Minutes             0\n",
              "dtype: int64"
            ]
          },
          "metadata": {
            "tags": []
          },
          "execution_count": 84
        }
      ]
    },
    {
      "cell_type": "code",
      "metadata": {
        "id": "JGCNPifd6wxz"
      },
      "source": [
        "df = df_notnull"
      ],
      "execution_count": 85,
      "outputs": []
    },
    {
      "cell_type": "code",
      "metadata": {
        "id": "fXymuSVaemIT",
        "colab": {
          "base_uri": "https://localhost:8080/",
          "height": 498
        },
        "outputId": "f21f93dc-d5ef-41ef-89c0-a418b6b61024"
      },
      "source": [
        "plt.figure(figsize=(8, 8))\n",
        "df[\"Flight Distance\"].plot.box()"
      ],
      "execution_count": 86,
      "outputs": [
        {
          "output_type": "execute_result",
          "data": {
            "text/plain": [
              "<matplotlib.axes._subplots.AxesSubplot at 0x7fe06557c2d0>"
            ]
          },
          "metadata": {
            "tags": []
          },
          "execution_count": 86
        },
        {
          "output_type": "display_data",
          "data": {
            "image/png": "[encoded data removed]",
            "text/plain": [
              "<Figure size 576x576 with 1 Axes>"
            ]
          },
          "metadata": {
            "tags": [],
            "needs_background": "light"
          }
        }
      ]
    },
    {
      "cell_type": "code",
      "metadata": {
        "id": "KTs-jhudDsC2",
        "colab": {
          "base_uri": "https://localhost:8080/",
          "height": 498
        },
        "outputId": "eeae3d84-8498-4f9e-f323-07731ed96b79"
      },
      "source": [
        "plt.figure(figsize=(8, 8))\n",
        "df['Arrival Delay in Minutes'].plot.box()"
      ],
      "execution_count": 87,
      "outputs": [
        {
          "output_type": "execute_result",
          "data": {
            "text/plain": [
              "<matplotlib.axes._subplots.AxesSubplot at 0x7fe0654efb50>"
            ]
          },
          "metadata": {
            "tags": []
          },
          "execution_count": 87
        },
        {
          "output_type": "display_data",
          "data": {
            "image/png": "[encoded data removed]",
            "text/plain": [
              "<Figure size 576x576 with 1 Axes>"
            ]
          },
          "metadata": {
            "tags": [],
            "needs_background": "light"
          }
        }
      ]
    },
    {
      "cell_type": "code",
      "metadata": {
        "id": "QCujo3swD1UV",
        "colab": {
          "base_uri": "https://localhost:8080/",
          "height": 498
        },
        "outputId": "f7a61524-f148-44d9-d44a-4d8fd08d38b0"
      },
      "source": [
        "plt.figure(figsize=(8, 8))\n",
        "df['Departure Delay in Minutes'].plot.box()"
      ],
      "execution_count": 88,
      "outputs": [
        {
          "output_type": "execute_result",
          "data": {
            "text/plain": [
              "<matplotlib.axes._subplots.AxesSubplot at 0x7fe065465590>"
            ]
          },
          "metadata": {
            "tags": []
          },
          "execution_count": 88
        },
        {
          "output_type": "display_data",
          "data": {
            "image/png": "[encoded data removed]",
            "text/plain": [
              "<Figure size 576x576 with 1 Axes>"
            ]
          },
          "metadata": {
            "tags": [],
            "needs_background": "light"
          }
        }
      ]
    },
    {
      "cell_type": "code",
      "metadata": {
        "id": "EBb3Qg1F8-ms",
        "colab": {
          "base_uri": "https://localhost:8080/",
          "height": 295
        },
        "outputId": "61467b0a-ec80-4117-8216-0e3bbcfc6a23"
      },
      "source": [
        "ax = sns.countplot(x='satisfaction',data = df)\n",
        "plt.title('Airlines Customer satisfaction Count')\n",
        "plt.xticks([0,1],['Dissatisfied',\"Satisfied\"])\n",
        "plt.show()"
      ],
      "execution_count": 89,
      "outputs": [
        {
          "output_type": "display_data",
          "data": {
            "image/png": "[encoded data removed]",
            "text/plain": [
              "<Figure size 432x288 with 1 Axes>"
            ]
          },
          "metadata": {
            "tags": [],
            "needs_background": "light"
          }
        }
      ]
    },
    {
      "cell_type": "markdown",
      "metadata": {
        "id": "zzN3KoG70DLh"
      },
      "source": [
        "we see that the number of satisfied and dissatisfied customers are almost equal."
      ]
    },
    {
      "cell_type": "code",
      "metadata": {
        "colab": {
          "base_uri": "https://localhost:8080/",
          "height": 838
        },
        "id": "xw2gJpPeaWaP",
        "outputId": "26c2e1bd-b9f9-42c3-c8fc-19e618076033"
      },
      "source": [
        "fig,axs = plt.subplots(2,2,figsize=(14, 14))\n",
        "cols=['Gender', 'Customer Type', 'Type of Travel', 'Class']\n",
        "c=0\n",
        "for i in range(2):\n",
        "  for j in range(2):\n",
        "    sns.countplot(data=df,x=cols[c],hue='satisfaction',ax=axs[i][j])\n",
        "    axs[i][j].set_title('Customer Satisafaction as per {}'.format(cols[c]))\n",
        "    axs[i][j].legend(['Dissatisfied',\"Satisfied\"])\n",
        "    c+=1"
      ],
      "execution_count": 90,
      "outputs": [
        {
          "output_type": "display_data",
          "data": {
            "image/png": "[encoded data removed]",
            "text/plain": [
              "<Figure size 1008x1008 with 4 Axes>"
            ]
          },
          "metadata": {
            "tags": [],
            "needs_background": "light"
          }
        }
      ]
    },
    {
      "cell_type": "code",
      "metadata": {
        "id": "-cGzwm5vemK7",
        "colab": {
          "base_uri": "https://localhost:8080/",
          "height": 330
        },
        "outputId": "1d1c011c-54e4-4650-c5fd-ab66eabe2d6e"
      },
      "source": [
        "\n",
        "df.groupby(\"satisfaction\")[\"Food and drink\"].plot(kind='hist')"
      ],
      "execution_count": 91,
      "outputs": [
        {
          "output_type": "execute_result",
          "data": {
            "text/plain": [
              "satisfaction\n",
              "dissatisfied    AxesSubplot(0.125,0.125;0.775x0.755)\n",
              "satisfied       AxesSubplot(0.125,0.125;0.775x0.755)\n",
              "Name: Food and drink, dtype: object"
            ]
          },
          "metadata": {
            "tags": []
          },
          "execution_count": 91
        },
        {
          "output_type": "display_data",
          "data": {
            "image/png": "[encoded data removed]",
            "text/plain": [
              "<Figure size 432x288 with 1 Axes>"
            ]
          },
          "metadata": {
            "tags": [],
            "needs_background": "light"
          }
        }
      ]
    },
    {
      "cell_type": "code",
      "metadata": {
        "id": "aG4zLbvlemNV",
        "colab": {
          "base_uri": "https://localhost:8080/",
          "height": 330
        },
        "outputId": "965092da-fb07-4b8f-a508-44adbbba651a"
      },
      "source": [
        "df.groupby(\"satisfaction\")[\"Seat comfort\"].plot(kind='hist')"
      ],
      "execution_count": 92,
      "outputs": [
        {
          "output_type": "execute_result",
          "data": {
            "text/plain": [
              "satisfaction\n",
              "dissatisfied    AxesSubplot(0.125,0.125;0.775x0.755)\n",
              "satisfied       AxesSubplot(0.125,0.125;0.775x0.755)\n",
              "Name: Seat comfort, dtype: object"
            ]
          },
          "metadata": {
            "tags": []
          },
          "execution_count": 92
        },
        {
          "output_type": "display_data",
          "data": {
            "image/png": "[encoded data removed]",
            "text/plain": [
              "<Figure size 432x288 with 1 Axes>"
            ]
          },
          "metadata": {
            "tags": [],
            "needs_background": "light"
          }
        }
      ]
    },
    {
      "cell_type": "markdown",
      "metadata": {
        "id": "Z5eZux-38fsz"
      },
      "source": [
        "## HANDLING CATEGORICAL VALUES"
      ]
    },
    {
      "cell_type": "code",
      "metadata": {
        "id": "nH8soCzvemZl",
        "colab": {
          "base_uri": "https://localhost:8080/",
          "height": 330
        },
        "outputId": "2c2a5e43-498c-48c5-d085-743bdd8b326d"
      },
      "source": [
        "df.describe()"
      ],
      "execution_count": 93,
      "outputs": [
        {
          "output_type": "execute_result",
          "data": {
            "text/html": [
              "<div>\n",
              "<style scoped>\n",
              "    .dataframe tbody tr th:only-of-type {\n",
              "        vertical-align: middle;\n",
              "    }\n",
              "\n",
              "    .dataframe tbody tr th {\n",
              "        vertical-align: top;\n",
              "    }\n",
              "\n",
              "    .dataframe thead th {\n",
              "        text-align: right;\n",
              "    }\n",
              "</style>\n",
              "<table border=\"1\" class=\"dataframe\">\n",
              "  <thead>\n",
              "    <tr style=\"text-align: right;\">\n",
              "      <th></th>\n",
              "      <th>Age</th>\n",
              "      <th>Flight Distance</th>\n",
              "      <th>Seat comfort</th>\n",
              "      <th>Departure/Arrival time convenient</th>\n",
              "      <th>Food and drink</th>\n",
              "      <th>Gate location</th>\n",
              "      <th>Inflight wifi service</th>\n",
              "      <th>Inflight entertainment</th>\n",
              "      <th>Online support</th>\n",
              "      <th>Ease of Online booking</th>\n",
              "      <th>On-board service</th>\n",
              "      <th>Leg room service</th>\n",
              "      <th>Baggage handling</th>\n",
              "      <th>Checkin service</th>\n",
              "      <th>Cleanliness</th>\n",
              "      <th>Online boarding</th>\n",
              "      <th>Departure Delay in Minutes</th>\n",
              "      <th>Arrival Delay in Minutes</th>\n",
              "    </tr>\n",
              "  </thead>\n",
              "  <tbody>\n",
              "    <tr>\n",
              "      <th>count</th>\n",
              "      <td>129487.000000</td>\n",
              "      <td>129487.000000</td>\n",
              "      <td>129487.000000</td>\n",
              "      <td>129487.000000</td>\n",
              "      <td>129487.000000</td>\n",
              "      <td>129487.000000</td>\n",
              "      <td>129487.000000</td>\n",
              "      <td>129487.000000</td>\n",
              "      <td>129487.000000</td>\n",
              "      <td>129487.000000</td>\n",
              "      <td>129487.000000</td>\n",
              "      <td>129487.000000</td>\n",
              "      <td>129487.000000</td>\n",
              "      <td>129487.000000</td>\n",
              "      <td>129487.000000</td>\n",
              "      <td>129487.000000</td>\n",
              "      <td>129487.000000</td>\n",
              "      <td>129487.000000</td>\n",
              "    </tr>\n",
              "    <tr>\n",
              "      <th>mean</th>\n",
              "      <td>39.428761</td>\n",
              "      <td>1981.008974</td>\n",
              "      <td>2.838586</td>\n",
              "      <td>2.990277</td>\n",
              "      <td>2.852024</td>\n",
              "      <td>2.990377</td>\n",
              "      <td>3.249160</td>\n",
              "      <td>3.383745</td>\n",
              "      <td>3.519967</td>\n",
              "      <td>3.472171</td>\n",
              "      <td>3.465143</td>\n",
              "      <td>3.486118</td>\n",
              "      <td>3.695460</td>\n",
              "      <td>3.340729</td>\n",
              "      <td>3.705886</td>\n",
              "      <td>3.352545</td>\n",
              "      <td>14.643385</td>\n",
              "      <td>15.091129</td>\n",
              "    </tr>\n",
              "    <tr>\n",
              "      <th>std</th>\n",
              "      <td>15.117597</td>\n",
              "      <td>1026.884131</td>\n",
              "      <td>1.392873</td>\n",
              "      <td>1.527183</td>\n",
              "      <td>1.443587</td>\n",
              "      <td>1.305917</td>\n",
              "      <td>1.318765</td>\n",
              "      <td>1.345959</td>\n",
              "      <td>1.306326</td>\n",
              "      <td>1.305573</td>\n",
              "      <td>1.270755</td>\n",
              "      <td>1.292079</td>\n",
              "      <td>1.156487</td>\n",
              "      <td>1.260561</td>\n",
              "      <td>1.151683</td>\n",
              "      <td>1.298624</td>\n",
              "      <td>37.932867</td>\n",
              "      <td>38.465650</td>\n",
              "    </tr>\n",
              "    <tr>\n",
              "      <th>min</th>\n",
              "      <td>7.000000</td>\n",
              "      <td>50.000000</td>\n",
              "      <td>0.000000</td>\n",
              "      <td>0.000000</td>\n",
              "      <td>0.000000</td>\n",
              "      <td>0.000000</td>\n",
              "      <td>0.000000</td>\n",
              "      <td>0.000000</td>\n",
              "      <td>0.000000</td>\n",
              "      <td>0.000000</td>\n",
              "      <td>0.000000</td>\n",
              "      <td>0.000000</td>\n",
              "      <td>1.000000</td>\n",
              "      <td>0.000000</td>\n",
              "      <td>0.000000</td>\n",
              "      <td>0.000000</td>\n",
              "      <td>0.000000</td>\n",
              "      <td>0.000000</td>\n",
              "    </tr>\n",
              "    <tr>\n",
              "      <th>25%</th>\n",
              "      <td>27.000000</td>\n",
              "      <td>1359.000000</td>\n",
              "      <td>2.000000</td>\n",
              "      <td>2.000000</td>\n",
              "      <td>2.000000</td>\n",
              "      <td>2.000000</td>\n",
              "      <td>2.000000</td>\n",
              "      <td>2.000000</td>\n",
              "      <td>3.000000</td>\n",
              "      <td>2.000000</td>\n",
              "      <td>3.000000</td>\n",
              "      <td>2.000000</td>\n",
              "      <td>3.000000</td>\n",
              "      <td>3.000000</td>\n",
              "      <td>3.000000</td>\n",
              "      <td>2.000000</td>\n",
              "      <td>0.000000</td>\n",
              "      <td>0.000000</td>\n",
              "    </tr>\n",
              "    <tr>\n",
              "      <th>50%</th>\n",
              "      <td>40.000000</td>\n",
              "      <td>1924.000000</td>\n",
              "      <td>3.000000</td>\n",
              "      <td>3.000000</td>\n",
              "      <td>3.000000</td>\n",
              "      <td>3.000000</td>\n",
              "      <td>3.000000</td>\n",
              "      <td>4.000000</td>\n",
              "      <td>4.000000</td>\n",
              "      <td>4.000000</td>\n",
              "      <td>4.000000</td>\n",
              "      <td>4.000000</td>\n",
              "      <td>4.000000</td>\n",
              "      <td>3.000000</td>\n",
              "      <td>4.000000</td>\n",
              "      <td>4.000000</td>\n",
              "      <td>0.000000</td>\n",
              "      <td>0.000000</td>\n",
              "    </tr>\n",
              "    <tr>\n",
              "      <th>75%</th>\n",
              "      <td>51.000000</td>\n",
              "      <td>2543.000000</td>\n",
              "      <td>4.000000</td>\n",
              "      <td>4.000000</td>\n",
              "      <td>4.000000</td>\n",
              "      <td>4.000000</td>\n",
              "      <td>4.000000</td>\n",
              "      <td>4.000000</td>\n",
              "      <td>5.000000</td>\n",
              "      <td>5.000000</td>\n",
              "      <td>4.000000</td>\n",
              "      <td>5.000000</td>\n",
              "      <td>5.000000</td>\n",
              "      <td>4.000000</td>\n",
              "      <td>5.000000</td>\n",
              "      <td>4.000000</td>\n",
              "      <td>12.000000</td>\n",
              "      <td>13.000000</td>\n",
              "    </tr>\n",
              "    <tr>\n",
              "      <th>max</th>\n",
              "      <td>85.000000</td>\n",
              "      <td>6951.000000</td>\n",
              "      <td>5.000000</td>\n",
              "      <td>5.000000</td>\n",
              "      <td>5.000000</td>\n",
              "      <td>5.000000</td>\n",
              "      <td>5.000000</td>\n",
              "      <td>5.000000</td>\n",
              "      <td>5.000000</td>\n",
              "      <td>5.000000</td>\n",
              "      <td>5.000000</td>\n",
              "      <td>5.000000</td>\n",
              "      <td>5.000000</td>\n",
              "      <td>5.000000</td>\n",
              "      <td>5.000000</td>\n",
              "      <td>5.000000</td>\n",
              "      <td>1592.000000</td>\n",
              "      <td>1584.000000</td>\n",
              "    </tr>\n",
              "  </tbody>\n",
              "</table>\n",
              "</div>"
            ],
            "text/plain": [
              "                 Age  ...  Arrival Delay in Minutes\n",
              "count  129487.000000  ...             129487.000000\n",
              "mean       39.428761  ...                 15.091129\n",
              "std        15.117597  ...                 38.465650\n",
              "min         7.000000  ...                  0.000000\n",
              "25%        27.000000  ...                  0.000000\n",
              "50%        40.000000  ...                  0.000000\n",
              "75%        51.000000  ...                 13.000000\n",
              "max        85.000000  ...               1584.000000\n",
              "\n",
              "[8 rows x 18 columns]"
            ]
          },
          "metadata": {
            "tags": []
          },
          "execution_count": 93
        }
      ]
    },
    {
      "cell_type": "code",
      "metadata": {
        "id": "Ydz0zrZlemcM",
        "colab": {
          "base_uri": "https://localhost:8080/"
        },
        "outputId": "c8864b69-0a56-4eeb-bf62-e5902e3a0195"
      },
      "source": [
        "df.dtypes"
      ],
      "execution_count": 94,
      "outputs": [
        {
          "output_type": "execute_result",
          "data": {
            "text/plain": [
              "satisfaction                          object\n",
              "Gender                                object\n",
              "Customer Type                         object\n",
              "Age                                    int64\n",
              "Type of Travel                        object\n",
              "Class                                 object\n",
              "Flight Distance                        int64\n",
              "Seat comfort                           int64\n",
              "Departure/Arrival time convenient      int64\n",
              "Food and drink                         int64\n",
              "Gate location                          int64\n",
              "Inflight wifi service                  int64\n",
              "Inflight entertainment                 int64\n",
              "Online support                         int64\n",
              "Ease of Online booking                 int64\n",
              "On-board service                       int64\n",
              "Leg room service                       int64\n",
              "Baggage handling                       int64\n",
              "Checkin service                        int64\n",
              "Cleanliness                            int64\n",
              "Online boarding                        int64\n",
              "Departure Delay in Minutes             int64\n",
              "Arrival Delay in Minutes             float64\n",
              "dtype: object"
            ]
          },
          "metadata": {
            "tags": []
          },
          "execution_count": 94
        }
      ]
    },
    {
      "cell_type": "code",
      "metadata": {
        "id": "46cmgNW0emfA",
        "colab": {
          "base_uri": "https://localhost:8080/"
        },
        "outputId": "b75f6651-11d9-43e4-b8f7-fa094bd7a304"
      },
      "source": [
        "d = dict(df.dtypes)\n",
        "d\n"
      ],
      "execution_count": 95,
      "outputs": [
        {
          "output_type": "execute_result",
          "data": {
            "text/plain": [
              "{'Age': dtype('int64'),\n",
              " 'Arrival Delay in Minutes': dtype('float64'),\n",
              " 'Baggage handling': dtype('int64'),\n",
              " 'Checkin service': dtype('int64'),\n",
              " 'Class': dtype('O'),\n",
              " 'Cleanliness': dtype('int64'),\n",
              " 'Customer Type': dtype('O'),\n",
              " 'Departure Delay in Minutes': dtype('int64'),\n",
              " 'Departure/Arrival time convenient': dtype('int64'),\n",
              " 'Ease of Online booking': dtype('int64'),\n",
              " 'Flight Distance': dtype('int64'),\n",
              " 'Food and drink': dtype('int64'),\n",
              " 'Gate location': dtype('int64'),\n",
              " 'Gender': dtype('O'),\n",
              " 'Inflight entertainment': dtype('int64'),\n",
              " 'Inflight wifi service': dtype('int64'),\n",
              " 'Leg room service': dtype('int64'),\n",
              " 'On-board service': dtype('int64'),\n",
              " 'Online boarding': dtype('int64'),\n",
              " 'Online support': dtype('int64'),\n",
              " 'Seat comfort': dtype('int64'),\n",
              " 'Type of Travel': dtype('O'),\n",
              " 'satisfaction': dtype('O')}"
            ]
          },
          "metadata": {
            "tags": []
          },
          "execution_count": 95
        }
      ]
    },
    {
      "cell_type": "code",
      "metadata": {
        "id": "S3LnG_4M-DnU",
        "colab": {
          "base_uri": "https://localhost:8080/"
        },
        "outputId": "4eaf8b2a-ad1f-4051-abc9-863e22914bdf"
      },
      "source": [
        "object_list = [ i for i in d if d[i]=='object']\n",
        "object_list"
      ],
      "execution_count": 96,
      "outputs": [
        {
          "output_type": "execute_result",
          "data": {
            "text/plain": [
              "['satisfaction', 'Gender', 'Customer Type', 'Type of Travel', 'Class']"
            ]
          },
          "metadata": {
            "tags": []
          },
          "execution_count": 96
        }
      ]
    },
    {
      "cell_type": "markdown",
      "metadata": {
        "id": "MuZEVI1x_oWL"
      },
      "source": [
        "now getting one hot encoded values"
      ]
    },
    {
      "cell_type": "code",
      "metadata": {
        "id": "YDCeNA9Z_J2D",
        "colab": {
          "base_uri": "https://localhost:8080/",
          "height": 335
        },
        "outputId": "c6986c78-144c-4f65-f0b7-855d6b0842e9"
      },
      "source": [
        "df_dummies = pd.get_dummies(df[object_list], drop_first=True)\n",
        "df_dummies.head(10)"
      ],
      "execution_count": 97,
      "outputs": [
        {
          "output_type": "execute_result",
          "data": {
            "text/html": [
              "<div>\n",
              "<style scoped>\n",
              "    .dataframe tbody tr th:only-of-type {\n",
              "        vertical-align: middle;\n",
              "    }\n",
              "\n",
              "    .dataframe tbody tr th {\n",
              "        vertical-align: top;\n",
              "    }\n",
              "\n",
              "    .dataframe thead th {\n",
              "        text-align: right;\n",
              "    }\n",
              "</style>\n",
              "<table border=\"1\" class=\"dataframe\">\n",
              "  <thead>\n",
              "    <tr style=\"text-align: right;\">\n",
              "      <th></th>\n",
              "      <th>satisfaction_satisfied</th>\n",
              "      <th>Gender_Male</th>\n",
              "      <th>Customer Type_disloyal Customer</th>\n",
              "      <th>Type of Travel_Personal Travel</th>\n",
              "      <th>Class_Eco</th>\n",
              "      <th>Class_Eco Plus</th>\n",
              "    </tr>\n",
              "  </thead>\n",
              "  <tbody>\n",
              "    <tr>\n",
              "      <th>0</th>\n",
              "      <td>1</td>\n",
              "      <td>0</td>\n",
              "      <td>0</td>\n",
              "      <td>1</td>\n",
              "      <td>1</td>\n",
              "      <td>0</td>\n",
              "    </tr>\n",
              "    <tr>\n",
              "      <th>1</th>\n",
              "      <td>1</td>\n",
              "      <td>1</td>\n",
              "      <td>0</td>\n",
              "      <td>1</td>\n",
              "      <td>0</td>\n",
              "      <td>0</td>\n",
              "    </tr>\n",
              "    <tr>\n",
              "      <th>2</th>\n",
              "      <td>1</td>\n",
              "      <td>0</td>\n",
              "      <td>0</td>\n",
              "      <td>1</td>\n",
              "      <td>1</td>\n",
              "      <td>0</td>\n",
              "    </tr>\n",
              "    <tr>\n",
              "      <th>3</th>\n",
              "      <td>1</td>\n",
              "      <td>0</td>\n",
              "      <td>0</td>\n",
              "      <td>1</td>\n",
              "      <td>1</td>\n",
              "      <td>0</td>\n",
              "    </tr>\n",
              "    <tr>\n",
              "      <th>4</th>\n",
              "      <td>1</td>\n",
              "      <td>0</td>\n",
              "      <td>0</td>\n",
              "      <td>1</td>\n",
              "      <td>1</td>\n",
              "      <td>0</td>\n",
              "    </tr>\n",
              "    <tr>\n",
              "      <th>5</th>\n",
              "      <td>1</td>\n",
              "      <td>1</td>\n",
              "      <td>0</td>\n",
              "      <td>1</td>\n",
              "      <td>1</td>\n",
              "      <td>0</td>\n",
              "    </tr>\n",
              "    <tr>\n",
              "      <th>6</th>\n",
              "      <td>1</td>\n",
              "      <td>0</td>\n",
              "      <td>0</td>\n",
              "      <td>1</td>\n",
              "      <td>1</td>\n",
              "      <td>0</td>\n",
              "    </tr>\n",
              "    <tr>\n",
              "      <th>7</th>\n",
              "      <td>1</td>\n",
              "      <td>1</td>\n",
              "      <td>0</td>\n",
              "      <td>1</td>\n",
              "      <td>1</td>\n",
              "      <td>0</td>\n",
              "    </tr>\n",
              "    <tr>\n",
              "      <th>8</th>\n",
              "      <td>1</td>\n",
              "      <td>0</td>\n",
              "      <td>0</td>\n",
              "      <td>1</td>\n",
              "      <td>0</td>\n",
              "      <td>0</td>\n",
              "    </tr>\n",
              "    <tr>\n",
              "      <th>9</th>\n",
              "      <td>1</td>\n",
              "      <td>1</td>\n",
              "      <td>0</td>\n",
              "      <td>1</td>\n",
              "      <td>1</td>\n",
              "      <td>0</td>\n",
              "    </tr>\n",
              "  </tbody>\n",
              "</table>\n",
              "</div>"
            ],
            "text/plain": [
              "   satisfaction_satisfied  Gender_Male  ...  Class_Eco  Class_Eco Plus\n",
              "0                       1            0  ...          1               0\n",
              "1                       1            1  ...          0               0\n",
              "2                       1            0  ...          1               0\n",
              "3                       1            0  ...          1               0\n",
              "4                       1            0  ...          1               0\n",
              "5                       1            1  ...          1               0\n",
              "6                       1            0  ...          1               0\n",
              "7                       1            1  ...          1               0\n",
              "8                       1            0  ...          0               0\n",
              "9                       1            1  ...          1               0\n",
              "\n",
              "[10 rows x 6 columns]"
            ]
          },
          "metadata": {
            "tags": []
          },
          "execution_count": 97
        }
      ]
    },
    {
      "cell_type": "markdown",
      "metadata": {
        "id": "Nfnf-6_nAUtd"
      },
      "source": [
        "here:<br>\n",
        "  satisfied represents 1<br>\n",
        "  unsatisfied represents 0<br>\n",
        "also;<br>\n",
        "  male is represnted by 1<br>\n",
        "  female is represented by 0<br>\n",
        "also;<br>\n",
        "  loyal customer is 0<br>\n",
        "  disloyal customer is 1<br>\n",
        "also;<br>\n",
        "  personaltravel type is given by 1<br>\n",
        "  business travel is given by 0<br>\n"
      ]
    },
    {
      "cell_type": "code",
      "metadata": {
        "id": "JMJ_2ifNAJAn"
      },
      "source": [
        "df['satisfaction']= df_dummies['satisfaction_satisfied']\n",
        "df['Gender'] = df_dummies['Gender_Male']\n",
        "df['Type of Travel'] = df_dummies['Type of Travel_Personal Travel']\n",
        "df['Customer Type'] = df_dummies['Customer Type_disloyal Customer']\n",
        "df['Class_Eco']= df_dummies['Class_Eco']\n",
        "df['Class_Eco Plus'] = df_dummies['Class_Eco Plus']"
      ],
      "execution_count": 98,
      "outputs": []
    },
    {
      "cell_type": "code",
      "metadata": {
        "id": "EE4DPkyOCA-b",
        "colab": {
          "base_uri": "https://localhost:8080/",
          "height": 403
        },
        "outputId": "eb3fe5f3-890f-4e65-e19e-67353f7d2243"
      },
      "source": [
        "df.head(10)"
      ],
      "execution_count": 99,
      "outputs": [
        {
          "output_type": "execute_result",
          "data": {
            "text/html": [
              "<div>\n",
              "<style scoped>\n",
              "    .dataframe tbody tr th:only-of-type {\n",
              "        vertical-align: middle;\n",
              "    }\n",
              "\n",
              "    .dataframe tbody tr th {\n",
              "        vertical-align: top;\n",
              "    }\n",
              "\n",
              "    .dataframe thead th {\n",
              "        text-align: right;\n",
              "    }\n",
              "</style>\n",
              "<table border=\"1\" class=\"dataframe\">\n",
              "  <thead>\n",
              "    <tr style=\"text-align: right;\">\n",
              "      <th></th>\n",
              "      <th>satisfaction</th>\n",
              "      <th>Gender</th>\n",
              "      <th>Customer Type</th>\n",
              "      <th>Age</th>\n",
              "      <th>Type of Travel</th>\n",
              "      <th>Class</th>\n",
              "      <th>Flight Distance</th>\n",
              "      <th>Seat comfort</th>\n",
              "      <th>Departure/Arrival time convenient</th>\n",
              "      <th>Food and drink</th>\n",
              "      <th>Gate location</th>\n",
              "      <th>Inflight wifi service</th>\n",
              "      <th>Inflight entertainment</th>\n",
              "      <th>Online support</th>\n",
              "      <th>Ease of Online booking</th>\n",
              "      <th>On-board service</th>\n",
              "      <th>Leg room service</th>\n",
              "      <th>Baggage handling</th>\n",
              "      <th>Checkin service</th>\n",
              "      <th>Cleanliness</th>\n",
              "      <th>Online boarding</th>\n",
              "      <th>Departure Delay in Minutes</th>\n",
              "      <th>Arrival Delay in Minutes</th>\n",
              "      <th>Class_Eco</th>\n",
              "      <th>Class_Eco Plus</th>\n",
              "    </tr>\n",
              "  </thead>\n",
              "  <tbody>\n",
              "    <tr>\n",
              "      <th>0</th>\n",
              "      <td>1</td>\n",
              "      <td>0</td>\n",
              "      <td>0</td>\n",
              "      <td>65</td>\n",
              "      <td>1</td>\n",
              "      <td>Eco</td>\n",
              "      <td>265</td>\n",
              "      <td>0</td>\n",
              "      <td>0</td>\n",
              "      <td>0</td>\n",
              "      <td>2</td>\n",
              "      <td>2</td>\n",
              "      <td>4</td>\n",
              "      <td>2</td>\n",
              "      <td>3</td>\n",
              "      <td>3</td>\n",
              "      <td>0</td>\n",
              "      <td>3</td>\n",
              "      <td>5</td>\n",
              "      <td>3</td>\n",
              "      <td>2</td>\n",
              "      <td>0</td>\n",
              "      <td>0.0</td>\n",
              "      <td>1</td>\n",
              "      <td>0</td>\n",
              "    </tr>\n",
              "    <tr>\n",
              "      <th>1</th>\n",
              "      <td>1</td>\n",
              "      <td>1</td>\n",
              "      <td>0</td>\n",
              "      <td>47</td>\n",
              "      <td>1</td>\n",
              "      <td>Business</td>\n",
              "      <td>2464</td>\n",
              "      <td>0</td>\n",
              "      <td>0</td>\n",
              "      <td>0</td>\n",
              "      <td>3</td>\n",
              "      <td>0</td>\n",
              "      <td>2</td>\n",
              "      <td>2</td>\n",
              "      <td>3</td>\n",
              "      <td>4</td>\n",
              "      <td>4</td>\n",
              "      <td>4</td>\n",
              "      <td>2</td>\n",
              "      <td>3</td>\n",
              "      <td>2</td>\n",
              "      <td>310</td>\n",
              "      <td>305.0</td>\n",
              "      <td>0</td>\n",
              "      <td>0</td>\n",
              "    </tr>\n",
              "    <tr>\n",
              "      <th>2</th>\n",
              "      <td>1</td>\n",
              "      <td>0</td>\n",
              "      <td>0</td>\n",
              "      <td>15</td>\n",
              "      <td>1</td>\n",
              "      <td>Eco</td>\n",
              "      <td>2138</td>\n",
              "      <td>0</td>\n",
              "      <td>0</td>\n",
              "      <td>0</td>\n",
              "      <td>3</td>\n",
              "      <td>2</td>\n",
              "      <td>0</td>\n",
              "      <td>2</td>\n",
              "      <td>2</td>\n",
              "      <td>3</td>\n",
              "      <td>3</td>\n",
              "      <td>4</td>\n",
              "      <td>4</td>\n",
              "      <td>4</td>\n",
              "      <td>2</td>\n",
              "      <td>0</td>\n",
              "      <td>0.0</td>\n",
              "      <td>1</td>\n",
              "      <td>0</td>\n",
              "    </tr>\n",
              "    <tr>\n",
              "      <th>3</th>\n",
              "      <td>1</td>\n",
              "      <td>0</td>\n",
              "      <td>0</td>\n",
              "      <td>60</td>\n",
              "      <td>1</td>\n",
              "      <td>Eco</td>\n",
              "      <td>623</td>\n",
              "      <td>0</td>\n",
              "      <td>0</td>\n",
              "      <td>0</td>\n",
              "      <td>3</td>\n",
              "      <td>3</td>\n",
              "      <td>4</td>\n",
              "      <td>3</td>\n",
              "      <td>1</td>\n",
              "      <td>1</td>\n",
              "      <td>0</td>\n",
              "      <td>1</td>\n",
              "      <td>4</td>\n",
              "      <td>1</td>\n",
              "      <td>3</td>\n",
              "      <td>0</td>\n",
              "      <td>0.0</td>\n",
              "      <td>1</td>\n",
              "      <td>0</td>\n",
              "    </tr>\n",
              "    <tr>\n",
              "      <th>4</th>\n",
              "      <td>1</td>\n",
              "      <td>0</td>\n",
              "      <td>0</td>\n",
              "      <td>70</td>\n",
              "      <td>1</td>\n",
              "      <td>Eco</td>\n",
              "      <td>354</td>\n",
              "      <td>0</td>\n",
              "      <td>0</td>\n",
              "      <td>0</td>\n",
              "      <td>3</td>\n",
              "      <td>4</td>\n",
              "      <td>3</td>\n",
              "      <td>4</td>\n",
              "      <td>2</td>\n",
              "      <td>2</td>\n",
              "      <td>0</td>\n",
              "      <td>2</td>\n",
              "      <td>4</td>\n",
              "      <td>2</td>\n",
              "      <td>5</td>\n",
              "      <td>0</td>\n",
              "      <td>0.0</td>\n",
              "      <td>1</td>\n",
              "      <td>0</td>\n",
              "    </tr>\n",
              "    <tr>\n",
              "      <th>5</th>\n",
              "      <td>1</td>\n",
              "      <td>1</td>\n",
              "      <td>0</td>\n",
              "      <td>30</td>\n",
              "      <td>1</td>\n",
              "      <td>Eco</td>\n",
              "      <td>1894</td>\n",
              "      <td>0</td>\n",
              "      <td>0</td>\n",
              "      <td>0</td>\n",
              "      <td>3</td>\n",
              "      <td>2</td>\n",
              "      <td>0</td>\n",
              "      <td>2</td>\n",
              "      <td>2</td>\n",
              "      <td>5</td>\n",
              "      <td>4</td>\n",
              "      <td>5</td>\n",
              "      <td>5</td>\n",
              "      <td>4</td>\n",
              "      <td>2</td>\n",
              "      <td>0</td>\n",
              "      <td>0.0</td>\n",
              "      <td>1</td>\n",
              "      <td>0</td>\n",
              "    </tr>\n",
              "    <tr>\n",
              "      <th>6</th>\n",
              "      <td>1</td>\n",
              "      <td>0</td>\n",
              "      <td>0</td>\n",
              "      <td>66</td>\n",
              "      <td>1</td>\n",
              "      <td>Eco</td>\n",
              "      <td>227</td>\n",
              "      <td>0</td>\n",
              "      <td>0</td>\n",
              "      <td>0</td>\n",
              "      <td>3</td>\n",
              "      <td>2</td>\n",
              "      <td>5</td>\n",
              "      <td>5</td>\n",
              "      <td>5</td>\n",
              "      <td>5</td>\n",
              "      <td>0</td>\n",
              "      <td>5</td>\n",
              "      <td>5</td>\n",
              "      <td>5</td>\n",
              "      <td>3</td>\n",
              "      <td>17</td>\n",
              "      <td>15.0</td>\n",
              "      <td>1</td>\n",
              "      <td>0</td>\n",
              "    </tr>\n",
              "    <tr>\n",
              "      <th>7</th>\n",
              "      <td>1</td>\n",
              "      <td>1</td>\n",
              "      <td>0</td>\n",
              "      <td>10</td>\n",
              "      <td>1</td>\n",
              "      <td>Eco</td>\n",
              "      <td>1812</td>\n",
              "      <td>0</td>\n",
              "      <td>0</td>\n",
              "      <td>0</td>\n",
              "      <td>3</td>\n",
              "      <td>2</td>\n",
              "      <td>0</td>\n",
              "      <td>2</td>\n",
              "      <td>2</td>\n",
              "      <td>3</td>\n",
              "      <td>3</td>\n",
              "      <td>4</td>\n",
              "      <td>5</td>\n",
              "      <td>4</td>\n",
              "      <td>2</td>\n",
              "      <td>0</td>\n",
              "      <td>0.0</td>\n",
              "      <td>1</td>\n",
              "      <td>0</td>\n",
              "    </tr>\n",
              "    <tr>\n",
              "      <th>8</th>\n",
              "      <td>1</td>\n",
              "      <td>0</td>\n",
              "      <td>0</td>\n",
              "      <td>56</td>\n",
              "      <td>1</td>\n",
              "      <td>Business</td>\n",
              "      <td>73</td>\n",
              "      <td>0</td>\n",
              "      <td>0</td>\n",
              "      <td>0</td>\n",
              "      <td>3</td>\n",
              "      <td>5</td>\n",
              "      <td>3</td>\n",
              "      <td>5</td>\n",
              "      <td>4</td>\n",
              "      <td>4</td>\n",
              "      <td>0</td>\n",
              "      <td>1</td>\n",
              "      <td>5</td>\n",
              "      <td>4</td>\n",
              "      <td>4</td>\n",
              "      <td>0</td>\n",
              "      <td>0.0</td>\n",
              "      <td>0</td>\n",
              "      <td>0</td>\n",
              "    </tr>\n",
              "    <tr>\n",
              "      <th>9</th>\n",
              "      <td>1</td>\n",
              "      <td>1</td>\n",
              "      <td>0</td>\n",
              "      <td>22</td>\n",
              "      <td>1</td>\n",
              "      <td>Eco</td>\n",
              "      <td>1556</td>\n",
              "      <td>0</td>\n",
              "      <td>0</td>\n",
              "      <td>0</td>\n",
              "      <td>3</td>\n",
              "      <td>2</td>\n",
              "      <td>0</td>\n",
              "      <td>2</td>\n",
              "      <td>2</td>\n",
              "      <td>2</td>\n",
              "      <td>4</td>\n",
              "      <td>5</td>\n",
              "      <td>3</td>\n",
              "      <td>4</td>\n",
              "      <td>2</td>\n",
              "      <td>30</td>\n",
              "      <td>26.0</td>\n",
              "      <td>1</td>\n",
              "      <td>0</td>\n",
              "    </tr>\n",
              "  </tbody>\n",
              "</table>\n",
              "</div>"
            ],
            "text/plain": [
              "   satisfaction  Gender  ...  Class_Eco  Class_Eco Plus\n",
              "0             1       0  ...          1               0\n",
              "1             1       1  ...          0               0\n",
              "2             1       0  ...          1               0\n",
              "3             1       0  ...          1               0\n",
              "4             1       0  ...          1               0\n",
              "5             1       1  ...          1               0\n",
              "6             1       0  ...          1               0\n",
              "7             1       1  ...          1               0\n",
              "8             1       0  ...          0               0\n",
              "9             1       1  ...          1               0\n",
              "\n",
              "[10 rows x 25 columns]"
            ]
          },
          "metadata": {
            "tags": []
          },
          "execution_count": 99
        }
      ]
    },
    {
      "cell_type": "code",
      "metadata": {
        "id": "qeC5Hl1lCcpu"
      },
      "source": [
        "df = df.drop('Class',axis = 1)"
      ],
      "execution_count": 100,
      "outputs": []
    },
    {
      "cell_type": "code",
      "metadata": {
        "id": "tqErlk6LCmZX",
        "colab": {
          "base_uri": "https://localhost:8080/",
          "height": 260
        },
        "outputId": "73d4b307-d001-41cf-91f7-96537a95e43b"
      },
      "source": [
        "df.head()"
      ],
      "execution_count": 101,
      "outputs": [
        {
          "output_type": "execute_result",
          "data": {
            "text/html": [
              "<div>\n",
              "<style scoped>\n",
              "    .dataframe tbody tr th:only-of-type {\n",
              "        vertical-align: middle;\n",
              "    }\n",
              "\n",
              "    .dataframe tbody tr th {\n",
              "        vertical-align: top;\n",
              "    }\n",
              "\n",
              "    .dataframe thead th {\n",
              "        text-align: right;\n",
              "    }\n",
              "</style>\n",
              "<table border=\"1\" class=\"dataframe\">\n",
              "  <thead>\n",
              "    <tr style=\"text-align: right;\">\n",
              "      <th></th>\n",
              "      <th>satisfaction</th>\n",
              "      <th>Gender</th>\n",
              "      <th>Customer Type</th>\n",
              "      <th>Age</th>\n",
              "      <th>Type of Travel</th>\n",
              "      <th>Flight Distance</th>\n",
              "      <th>Seat comfort</th>\n",
              "      <th>Departure/Arrival time convenient</th>\n",
              "      <th>Food and drink</th>\n",
              "      <th>Gate location</th>\n",
              "      <th>Inflight wifi service</th>\n",
              "      <th>Inflight entertainment</th>\n",
              "      <th>Online support</th>\n",
              "      <th>Ease of Online booking</th>\n",
              "      <th>On-board service</th>\n",
              "      <th>Leg room service</th>\n",
              "      <th>Baggage handling</th>\n",
              "      <th>Checkin service</th>\n",
              "      <th>Cleanliness</th>\n",
              "      <th>Online boarding</th>\n",
              "      <th>Departure Delay in Minutes</th>\n",
              "      <th>Arrival Delay in Minutes</th>\n",
              "      <th>Class_Eco</th>\n",
              "      <th>Class_Eco Plus</th>\n",
              "    </tr>\n",
              "  </thead>\n",
              "  <tbody>\n",
              "    <tr>\n",
              "      <th>0</th>\n",
              "      <td>1</td>\n",
              "      <td>0</td>\n",
              "      <td>0</td>\n",
              "      <td>65</td>\n",
              "      <td>1</td>\n",
              "      <td>265</td>\n",
              "      <td>0</td>\n",
              "      <td>0</td>\n",
              "      <td>0</td>\n",
              "      <td>2</td>\n",
              "      <td>2</td>\n",
              "      <td>4</td>\n",
              "      <td>2</td>\n",
              "      <td>3</td>\n",
              "      <td>3</td>\n",
              "      <td>0</td>\n",
              "      <td>3</td>\n",
              "      <td>5</td>\n",
              "      <td>3</td>\n",
              "      <td>2</td>\n",
              "      <td>0</td>\n",
              "      <td>0.0</td>\n",
              "      <td>1</td>\n",
              "      <td>0</td>\n",
              "    </tr>\n",
              "    <tr>\n",
              "      <th>1</th>\n",
              "      <td>1</td>\n",
              "      <td>1</td>\n",
              "      <td>0</td>\n",
              "      <td>47</td>\n",
              "      <td>1</td>\n",
              "      <td>2464</td>\n",
              "      <td>0</td>\n",
              "      <td>0</td>\n",
              "      <td>0</td>\n",
              "      <td>3</td>\n",
              "      <td>0</td>\n",
              "      <td>2</td>\n",
              "      <td>2</td>\n",
              "      <td>3</td>\n",
              "      <td>4</td>\n",
              "      <td>4</td>\n",
              "      <td>4</td>\n",
              "      <td>2</td>\n",
              "      <td>3</td>\n",
              "      <td>2</td>\n",
              "      <td>310</td>\n",
              "      <td>305.0</td>\n",
              "      <td>0</td>\n",
              "      <td>0</td>\n",
              "    </tr>\n",
              "    <tr>\n",
              "      <th>2</th>\n",
              "      <td>1</td>\n",
              "      <td>0</td>\n",
              "      <td>0</td>\n",
              "      <td>15</td>\n",
              "      <td>1</td>\n",
              "      <td>2138</td>\n",
              "      <td>0</td>\n",
              "      <td>0</td>\n",
              "      <td>0</td>\n",
              "      <td>3</td>\n",
              "      <td>2</td>\n",
              "      <td>0</td>\n",
              "      <td>2</td>\n",
              "      <td>2</td>\n",
              "      <td>3</td>\n",
              "      <td>3</td>\n",
              "      <td>4</td>\n",
              "      <td>4</td>\n",
              "      <td>4</td>\n",
              "      <td>2</td>\n",
              "      <td>0</td>\n",
              "      <td>0.0</td>\n",
              "      <td>1</td>\n",
              "      <td>0</td>\n",
              "    </tr>\n",
              "    <tr>\n",
              "      <th>3</th>\n",
              "      <td>1</td>\n",
              "      <td>0</td>\n",
              "      <td>0</td>\n",
              "      <td>60</td>\n",
              "      <td>1</td>\n",
              "      <td>623</td>\n",
              "      <td>0</td>\n",
              "      <td>0</td>\n",
              "      <td>0</td>\n",
              "      <td>3</td>\n",
              "      <td>3</td>\n",
              "      <td>4</td>\n",
              "      <td>3</td>\n",
              "      <td>1</td>\n",
              "      <td>1</td>\n",
              "      <td>0</td>\n",
              "      <td>1</td>\n",
              "      <td>4</td>\n",
              "      <td>1</td>\n",
              "      <td>3</td>\n",
              "      <td>0</td>\n",
              "      <td>0.0</td>\n",
              "      <td>1</td>\n",
              "      <td>0</td>\n",
              "    </tr>\n",
              "    <tr>\n",
              "      <th>4</th>\n",
              "      <td>1</td>\n",
              "      <td>0</td>\n",
              "      <td>0</td>\n",
              "      <td>70</td>\n",
              "      <td>1</td>\n",
              "      <td>354</td>\n",
              "      <td>0</td>\n",
              "      <td>0</td>\n",
              "      <td>0</td>\n",
              "      <td>3</td>\n",
              "      <td>4</td>\n",
              "      <td>3</td>\n",
              "      <td>4</td>\n",
              "      <td>2</td>\n",
              "      <td>2</td>\n",
              "      <td>0</td>\n",
              "      <td>2</td>\n",
              "      <td>4</td>\n",
              "      <td>2</td>\n",
              "      <td>5</td>\n",
              "      <td>0</td>\n",
              "      <td>0.0</td>\n",
              "      <td>1</td>\n",
              "      <td>0</td>\n",
              "    </tr>\n",
              "  </tbody>\n",
              "</table>\n",
              "</div>"
            ],
            "text/plain": [
              "   satisfaction  Gender  ...  Class_Eco  Class_Eco Plus\n",
              "0             1       0  ...          1               0\n",
              "1             1       1  ...          0               0\n",
              "2             1       0  ...          1               0\n",
              "3             1       0  ...          1               0\n",
              "4             1       0  ...          1               0\n",
              "\n",
              "[5 rows x 24 columns]"
            ]
          },
          "metadata": {
            "tags": []
          },
          "execution_count": 101
        }
      ]
    },
    {
      "cell_type": "code",
      "metadata": {
        "id": "yDUPn0NHISvG"
      },
      "source": [
        ""
      ],
      "execution_count": 101,
      "outputs": []
    },
    {
      "cell_type": "markdown",
      "metadata": {
        "id": "QqewUtuaESSR"
      },
      "source": [
        "## NORMALIZING THE DATA"
      ]
    },
    {
      "cell_type": "code",
      "metadata": {
        "id": "fnK-8MysERH1"
      },
      "source": [
        "scaler= MinMaxScaler()"
      ],
      "execution_count": 102,
      "outputs": []
    },
    {
      "cell_type": "code",
      "metadata": {
        "id": "0vRYS2vSH_WI"
      },
      "source": [
        "from sklearn.preprocessing import StandardScaler\n",
        "scaler = StandardScaler()\n"
      ],
      "execution_count": 103,
      "outputs": []
    },
    {
      "cell_type": "code",
      "metadata": {
        "id": "xz8X6X79H_Yp",
        "colab": {
          "base_uri": "https://localhost:8080/"
        },
        "outputId": "339b0868-0381-41bd-9963-aab8a1f13e9a"
      },
      "source": [
        "columns = df.columns\n",
        "columns= columns.drop('satisfaction')\n",
        "columns"
      ],
      "execution_count": 104,
      "outputs": [
        {
          "output_type": "execute_result",
          "data": {
            "text/plain": [
              "Index(['Gender', 'Customer Type', 'Age', 'Type of Travel', 'Flight Distance',\n",
              "       'Seat comfort', 'Departure/Arrival time convenient', 'Food and drink',\n",
              "       'Gate location', 'Inflight wifi service', 'Inflight entertainment',\n",
              "       'Online support', 'Ease of Online booking', 'On-board service',\n",
              "       'Leg room service', 'Baggage handling', 'Checkin service',\n",
              "       'Cleanliness', 'Online boarding', 'Departure Delay in Minutes',\n",
              "       'Arrival Delay in Minutes', 'Class_Eco', 'Class_Eco Plus'],\n",
              "      dtype='object')"
            ]
          },
          "metadata": {
            "tags": []
          },
          "execution_count": 104
        }
      ]
    },
    {
      "cell_type": "code",
      "metadata": {
        "id": "wKC885UXCx8F"
      },
      "source": [
        "data = df"
      ],
      "execution_count": 105,
      "outputs": []
    },
    {
      "cell_type": "code",
      "metadata": {
        "id": "a0wr08MuH_a3"
      },
      "source": [
        "data[columns] = scaler.fit_transform(df[columns])"
      ],
      "execution_count": 106,
      "outputs": []
    },
    {
      "cell_type": "code",
      "metadata": {
        "id": "5nxC6pw9H_dS",
        "colab": {
          "base_uri": "https://localhost:8080/",
          "height": 403
        },
        "outputId": "2d9617b4-801f-48dc-a5e8-e4ab2bb4be88"
      },
      "source": [
        "data.head(10)"
      ],
      "execution_count": 107,
      "outputs": [
        {
          "output_type": "execute_result",
          "data": {
            "text/html": [
              "<div>\n",
              "<style scoped>\n",
              "    .dataframe tbody tr th:only-of-type {\n",
              "        vertical-align: middle;\n",
              "    }\n",
              "\n",
              "    .dataframe tbody tr th {\n",
              "        vertical-align: top;\n",
              "    }\n",
              "\n",
              "    .dataframe thead th {\n",
              "        text-align: right;\n",
              "    }\n",
              "</style>\n",
              "<table border=\"1\" class=\"dataframe\">\n",
              "  <thead>\n",
              "    <tr style=\"text-align: right;\">\n",
              "      <th></th>\n",
              "      <th>satisfaction</th>\n",
              "      <th>Gender</th>\n",
              "      <th>Customer Type</th>\n",
              "      <th>Age</th>\n",
              "      <th>Type of Travel</th>\n",
              "      <th>Flight Distance</th>\n",
              "      <th>Seat comfort</th>\n",
              "      <th>Departure/Arrival time convenient</th>\n",
              "      <th>Food and drink</th>\n",
              "      <th>Gate location</th>\n",
              "      <th>Inflight wifi service</th>\n",
              "      <th>Inflight entertainment</th>\n",
              "      <th>Online support</th>\n",
              "      <th>Ease of Online booking</th>\n",
              "      <th>On-board service</th>\n",
              "      <th>Leg room service</th>\n",
              "      <th>Baggage handling</th>\n",
              "      <th>Checkin service</th>\n",
              "      <th>Cleanliness</th>\n",
              "      <th>Online boarding</th>\n",
              "      <th>Departure Delay in Minutes</th>\n",
              "      <th>Arrival Delay in Minutes</th>\n",
              "      <th>Class_Eco</th>\n",
              "      <th>Class_Eco Plus</th>\n",
              "    </tr>\n",
              "  </thead>\n",
              "  <tbody>\n",
              "    <tr>\n",
              "      <th>0</th>\n",
              "      <td>1</td>\n",
              "      <td>-0.985288</td>\n",
              "      <td>-0.473495</td>\n",
              "      <td>1.691495</td>\n",
              "      <td>1.494583</td>\n",
              "      <td>-1.671090</td>\n",
              "      <td>-2.037943</td>\n",
              "      <td>-1.958042</td>\n",
              "      <td>-1.975658</td>\n",
              "      <td>-0.758380</td>\n",
              "      <td>-0.947223</td>\n",
              "      <td>0.457857</td>\n",
              "      <td>-1.163548</td>\n",
              "      <td>-0.361660</td>\n",
              "      <td>-0.366038</td>\n",
              "      <td>-2.698079</td>\n",
              "      <td>-0.601358</td>\n",
              "      <td>1.316301</td>\n",
              "      <td>-0.612919</td>\n",
              "      <td>-1.041526</td>\n",
              "      <td>-0.386036</td>\n",
              "      <td>-0.392329</td>\n",
              "      <td>1.108170</td>\n",
              "      <td>-0.279458</td>\n",
              "    </tr>\n",
              "    <tr>\n",
              "      <th>1</th>\n",
              "      <td>1</td>\n",
              "      <td>1.014931</td>\n",
              "      <td>-0.473495</td>\n",
              "      <td>0.500825</td>\n",
              "      <td>1.494583</td>\n",
              "      <td>0.470348</td>\n",
              "      <td>-2.037943</td>\n",
              "      <td>-1.958042</td>\n",
              "      <td>-1.975658</td>\n",
              "      <td>0.007368</td>\n",
              "      <td>-2.463800</td>\n",
              "      <td>-1.028077</td>\n",
              "      <td>-1.163548</td>\n",
              "      <td>-0.361660</td>\n",
              "      <td>0.420898</td>\n",
              "      <td>0.397718</td>\n",
              "      <td>0.263333</td>\n",
              "      <td>-1.063601</td>\n",
              "      <td>-0.612919</td>\n",
              "      <td>-1.041526</td>\n",
              "      <td>7.786328</td>\n",
              "      <td>7.536854</td>\n",
              "      <td>-0.902389</td>\n",
              "      <td>-0.279458</td>\n",
              "    </tr>\n",
              "    <tr>\n",
              "      <th>2</th>\n",
              "      <td>1</td>\n",
              "      <td>-0.985288</td>\n",
              "      <td>-0.473495</td>\n",
              "      <td>-1.615922</td>\n",
              "      <td>1.494583</td>\n",
              "      <td>0.152882</td>\n",
              "      <td>-2.037943</td>\n",
              "      <td>-1.958042</td>\n",
              "      <td>-1.975658</td>\n",
              "      <td>0.007368</td>\n",
              "      <td>-0.947223</td>\n",
              "      <td>-2.514012</td>\n",
              "      <td>-1.163548</td>\n",
              "      <td>-1.127610</td>\n",
              "      <td>-0.366038</td>\n",
              "      <td>-0.376231</td>\n",
              "      <td>0.263333</td>\n",
              "      <td>0.523000</td>\n",
              "      <td>0.255379</td>\n",
              "      <td>-1.041526</td>\n",
              "      <td>-0.386036</td>\n",
              "      <td>-0.392329</td>\n",
              "      <td>1.108170</td>\n",
              "      <td>-0.279458</td>\n",
              "    </tr>\n",
              "    <tr>\n",
              "      <th>3</th>\n",
              "      <td>1</td>\n",
              "      <td>-0.985288</td>\n",
              "      <td>-0.473495</td>\n",
              "      <td>1.360753</td>\n",
              "      <td>1.494583</td>\n",
              "      <td>-1.322461</td>\n",
              "      <td>-2.037943</td>\n",
              "      <td>-1.958042</td>\n",
              "      <td>-1.975658</td>\n",
              "      <td>0.007368</td>\n",
              "      <td>-0.188935</td>\n",
              "      <td>0.457857</td>\n",
              "      <td>-0.398040</td>\n",
              "      <td>-1.893560</td>\n",
              "      <td>-1.939912</td>\n",
              "      <td>-2.698079</td>\n",
              "      <td>-2.330739</td>\n",
              "      <td>0.523000</td>\n",
              "      <td>-2.349514</td>\n",
              "      <td>-0.271477</td>\n",
              "      <td>-0.386036</td>\n",
              "      <td>-0.392329</td>\n",
              "      <td>1.108170</td>\n",
              "      <td>-0.279458</td>\n",
              "    </tr>\n",
              "    <tr>\n",
              "      <th>4</th>\n",
              "      <td>1</td>\n",
              "      <td>-0.985288</td>\n",
              "      <td>-0.473495</td>\n",
              "      <td>2.022237</td>\n",
              "      <td>1.494583</td>\n",
              "      <td>-1.584420</td>\n",
              "      <td>-2.037943</td>\n",
              "      <td>-1.958042</td>\n",
              "      <td>-1.975658</td>\n",
              "      <td>0.007368</td>\n",
              "      <td>0.569353</td>\n",
              "      <td>-0.285110</td>\n",
              "      <td>0.367469</td>\n",
              "      <td>-1.127610</td>\n",
              "      <td>-1.152975</td>\n",
              "      <td>-2.698079</td>\n",
              "      <td>-1.466048</td>\n",
              "      <td>0.523000</td>\n",
              "      <td>-1.481216</td>\n",
              "      <td>1.268621</td>\n",
              "      <td>-0.386036</td>\n",
              "      <td>-0.392329</td>\n",
              "      <td>1.108170</td>\n",
              "      <td>-0.279458</td>\n",
              "    </tr>\n",
              "    <tr>\n",
              "      <th>5</th>\n",
              "      <td>1</td>\n",
              "      <td>1.014931</td>\n",
              "      <td>-0.473495</td>\n",
              "      <td>-0.623697</td>\n",
              "      <td>1.494583</td>\n",
              "      <td>-0.084731</td>\n",
              "      <td>-2.037943</td>\n",
              "      <td>-1.958042</td>\n",
              "      <td>-1.975658</td>\n",
              "      <td>0.007368</td>\n",
              "      <td>-0.947223</td>\n",
              "      <td>-2.514012</td>\n",
              "      <td>-1.163548</td>\n",
              "      <td>-1.127610</td>\n",
              "      <td>1.207835</td>\n",
              "      <td>0.397718</td>\n",
              "      <td>1.128024</td>\n",
              "      <td>1.316301</td>\n",
              "      <td>0.255379</td>\n",
              "      <td>-1.041526</td>\n",
              "      <td>-0.386036</td>\n",
              "      <td>-0.392329</td>\n",
              "      <td>1.108170</td>\n",
              "      <td>-0.279458</td>\n",
              "    </tr>\n",
              "    <tr>\n",
              "      <th>6</th>\n",
              "      <td>1</td>\n",
              "      <td>-0.985288</td>\n",
              "      <td>-0.473495</td>\n",
              "      <td>1.757643</td>\n",
              "      <td>1.494583</td>\n",
              "      <td>-1.708095</td>\n",
              "      <td>-2.037943</td>\n",
              "      <td>-1.958042</td>\n",
              "      <td>-1.975658</td>\n",
              "      <td>0.007368</td>\n",
              "      <td>-0.947223</td>\n",
              "      <td>1.200825</td>\n",
              "      <td>1.132978</td>\n",
              "      <td>1.170241</td>\n",
              "      <td>1.207835</td>\n",
              "      <td>-2.698079</td>\n",
              "      <td>1.128024</td>\n",
              "      <td>1.316301</td>\n",
              "      <td>1.123676</td>\n",
              "      <td>-0.271477</td>\n",
              "      <td>0.062126</td>\n",
              "      <td>-0.002369</td>\n",
              "      <td>1.108170</td>\n",
              "      <td>-0.279458</td>\n",
              "    </tr>\n",
              "    <tr>\n",
              "      <th>7</th>\n",
              "      <td>1</td>\n",
              "      <td>1.014931</td>\n",
              "      <td>-0.473495</td>\n",
              "      <td>-1.946664</td>\n",
              "      <td>1.494583</td>\n",
              "      <td>-0.164585</td>\n",
              "      <td>-2.037943</td>\n",
              "      <td>-1.958042</td>\n",
              "      <td>-1.975658</td>\n",
              "      <td>0.007368</td>\n",
              "      <td>-0.947223</td>\n",
              "      <td>-2.514012</td>\n",
              "      <td>-1.163548</td>\n",
              "      <td>-1.127610</td>\n",
              "      <td>-0.366038</td>\n",
              "      <td>-0.376231</td>\n",
              "      <td>0.263333</td>\n",
              "      <td>1.316301</td>\n",
              "      <td>0.255379</td>\n",
              "      <td>-1.041526</td>\n",
              "      <td>-0.386036</td>\n",
              "      <td>-0.392329</td>\n",
              "      <td>1.108170</td>\n",
              "      <td>-0.279458</td>\n",
              "    </tr>\n",
              "    <tr>\n",
              "      <th>8</th>\n",
              "      <td>1</td>\n",
              "      <td>-0.985288</td>\n",
              "      <td>-0.473495</td>\n",
              "      <td>1.096160</td>\n",
              "      <td>1.494583</td>\n",
              "      <td>-1.858064</td>\n",
              "      <td>-2.037943</td>\n",
              "      <td>-1.958042</td>\n",
              "      <td>-1.975658</td>\n",
              "      <td>0.007368</td>\n",
              "      <td>1.327641</td>\n",
              "      <td>-0.285110</td>\n",
              "      <td>1.132978</td>\n",
              "      <td>0.404291</td>\n",
              "      <td>0.420898</td>\n",
              "      <td>-2.698079</td>\n",
              "      <td>-2.330739</td>\n",
              "      <td>1.316301</td>\n",
              "      <td>0.255379</td>\n",
              "      <td>0.498572</td>\n",
              "      <td>-0.386036</td>\n",
              "      <td>-0.392329</td>\n",
              "      <td>-0.902389</td>\n",
              "      <td>-0.279458</td>\n",
              "    </tr>\n",
              "    <tr>\n",
              "      <th>9</th>\n",
              "      <td>1</td>\n",
              "      <td>1.014931</td>\n",
              "      <td>-0.473495</td>\n",
              "      <td>-1.152884</td>\n",
              "      <td>1.494583</td>\n",
              "      <td>-0.413884</td>\n",
              "      <td>-2.037943</td>\n",
              "      <td>-1.958042</td>\n",
              "      <td>-1.975658</td>\n",
              "      <td>0.007368</td>\n",
              "      <td>-0.947223</td>\n",
              "      <td>-2.514012</td>\n",
              "      <td>-1.163548</td>\n",
              "      <td>-1.127610</td>\n",
              "      <td>-1.152975</td>\n",
              "      <td>0.397718</td>\n",
              "      <td>1.128024</td>\n",
              "      <td>-0.270301</td>\n",
              "      <td>0.255379</td>\n",
              "      <td>-1.041526</td>\n",
              "      <td>0.404838</td>\n",
              "      <td>0.283601</td>\n",
              "      <td>1.108170</td>\n",
              "      <td>-0.279458</td>\n",
              "    </tr>\n",
              "  </tbody>\n",
              "</table>\n",
              "</div>"
            ],
            "text/plain": [
              "   satisfaction    Gender  ...  Class_Eco  Class_Eco Plus\n",
              "0             1 -0.985288  ...   1.108170       -0.279458\n",
              "1             1  1.014931  ...  -0.902389       -0.279458\n",
              "2             1 -0.985288  ...   1.108170       -0.279458\n",
              "3             1 -0.985288  ...   1.108170       -0.279458\n",
              "4             1 -0.985288  ...   1.108170       -0.279458\n",
              "5             1  1.014931  ...   1.108170       -0.279458\n",
              "6             1 -0.985288  ...   1.108170       -0.279458\n",
              "7             1  1.014931  ...   1.108170       -0.279458\n",
              "8             1 -0.985288  ...  -0.902389       -0.279458\n",
              "9             1  1.014931  ...   1.108170       -0.279458\n",
              "\n",
              "[10 rows x 24 columns]"
            ]
          },
          "metadata": {
            "tags": []
          },
          "execution_count": 107
        }
      ]
    },
    {
      "cell_type": "code",
      "metadata": {
        "id": "fooUFONpH_fq"
      },
      "source": [
        ""
      ],
      "execution_count": 107,
      "outputs": []
    },
    {
      "cell_type": "markdown",
      "metadata": {
        "id": "yfVTUv7EJMvU"
      },
      "source": [
        "## CROSS VALIDATION"
      ]
    },
    {
      "cell_type": "code",
      "metadata": {
        "id": "gs6MA1syH_h1"
      },
      "source": [
        "from sklearn.model_selection import StratifiedKFold"
      ],
      "execution_count": 108,
      "outputs": []
    },
    {
      "cell_type": "code",
      "metadata": {
        "id": "vy95Km3zHv4h"
      },
      "source": [
        "from sklearn.model_selection import StratifiedKFold\n",
        "\n",
        "data[\"kfold\"] = -1\n",
        "data = data.sample(frac=1).reset_index(drop = True)\n",
        "\n",
        "y = data.satisfaction.values\n",
        "\n",
        "kf = StratifiedKFold(n_splits=10)\n",
        "\n",
        "for f, (t_, v_) in enumerate(kf.split(X = data, y=y)):\n",
        "  data.loc[v_,'kfold'] = f"
      ],
      "execution_count": 109,
      "outputs": []
    },
    {
      "cell_type": "code",
      "metadata": {
        "id": "7ryLaWy1JlAq",
        "colab": {
          "base_uri": "https://localhost:8080/",
          "height": 403
        },
        "outputId": "9f060eca-8222-40bd-831b-c6904e10e5e8"
      },
      "source": [
        "data.tail(10)"
      ],
      "execution_count": 110,
      "outputs": [
        {
          "output_type": "execute_result",
          "data": {
            "text/html": [
              "<div>\n",
              "<style scoped>\n",
              "    .dataframe tbody tr th:only-of-type {\n",
              "        vertical-align: middle;\n",
              "    }\n",
              "\n",
              "    .dataframe tbody tr th {\n",
              "        vertical-align: top;\n",
              "    }\n",
              "\n",
              "    .dataframe thead th {\n",
              "        text-align: right;\n",
              "    }\n",
              "</style>\n",
              "<table border=\"1\" class=\"dataframe\">\n",
              "  <thead>\n",
              "    <tr style=\"text-align: right;\">\n",
              "      <th></th>\n",
              "      <th>satisfaction</th>\n",
              "      <th>Gender</th>\n",
              "      <th>Customer Type</th>\n",
              "      <th>Age</th>\n",
              "      <th>Type of Travel</th>\n",
              "      <th>Flight Distance</th>\n",
              "      <th>Seat comfort</th>\n",
              "      <th>Departure/Arrival time convenient</th>\n",
              "      <th>Food and drink</th>\n",
              "      <th>Gate location</th>\n",
              "      <th>Inflight wifi service</th>\n",
              "      <th>Inflight entertainment</th>\n",
              "      <th>Online support</th>\n",
              "      <th>Ease of Online booking</th>\n",
              "      <th>On-board service</th>\n",
              "      <th>Leg room service</th>\n",
              "      <th>Baggage handling</th>\n",
              "      <th>Checkin service</th>\n",
              "      <th>Cleanliness</th>\n",
              "      <th>Online boarding</th>\n",
              "      <th>Departure Delay in Minutes</th>\n",
              "      <th>Arrival Delay in Minutes</th>\n",
              "      <th>Class_Eco</th>\n",
              "      <th>Class_Eco Plus</th>\n",
              "      <th>kfold</th>\n",
              "    </tr>\n",
              "  </thead>\n",
              "  <tbody>\n",
              "    <tr>\n",
              "      <th>129477</th>\n",
              "      <td>0</td>\n",
              "      <td>-0.985288</td>\n",
              "      <td>-0.473495</td>\n",
              "      <td>0.831567</td>\n",
              "      <td>-0.669083</td>\n",
              "      <td>-1.046869</td>\n",
              "      <td>-0.602057</td>\n",
              "      <td>-1.303239</td>\n",
              "      <td>-0.590215</td>\n",
              "      <td>-0.758380</td>\n",
              "      <td>-1.705512</td>\n",
              "      <td>-0.285110</td>\n",
              "      <td>0.367469</td>\n",
              "      <td>-1.127610</td>\n",
              "      <td>-1.152975</td>\n",
              "      <td>-1.150180</td>\n",
              "      <td>-1.466048</td>\n",
              "      <td>0.523000</td>\n",
              "      <td>-1.481216</td>\n",
              "      <td>-1.041526</td>\n",
              "      <td>-0.386036</td>\n",
              "      <td>-0.392329</td>\n",
              "      <td>1.108170</td>\n",
              "      <td>-0.279458</td>\n",
              "      <td>9</td>\n",
              "    </tr>\n",
              "    <tr>\n",
              "      <th>129478</th>\n",
              "      <td>1</td>\n",
              "      <td>-0.985288</td>\n",
              "      <td>-0.473495</td>\n",
              "      <td>-0.623697</td>\n",
              "      <td>-0.669083</td>\n",
              "      <td>0.670956</td>\n",
              "      <td>-1.320000</td>\n",
              "      <td>-1.303239</td>\n",
              "      <td>-1.282937</td>\n",
              "      <td>-1.524128</td>\n",
              "      <td>1.327641</td>\n",
              "      <td>1.200825</td>\n",
              "      <td>1.132978</td>\n",
              "      <td>1.170241</td>\n",
              "      <td>1.207835</td>\n",
              "      <td>1.171668</td>\n",
              "      <td>0.263333</td>\n",
              "      <td>1.316301</td>\n",
              "      <td>0.255379</td>\n",
              "      <td>1.268621</td>\n",
              "      <td>-0.386036</td>\n",
              "      <td>-0.392329</td>\n",
              "      <td>-0.902389</td>\n",
              "      <td>-0.279458</td>\n",
              "      <td>9</td>\n",
              "    </tr>\n",
              "    <tr>\n",
              "      <th>129479</th>\n",
              "      <td>1</td>\n",
              "      <td>1.014931</td>\n",
              "      <td>2.111957</td>\n",
              "      <td>-1.020587</td>\n",
              "      <td>-0.669083</td>\n",
              "      <td>-0.354480</td>\n",
              "      <td>0.833829</td>\n",
              "      <td>-1.958042</td>\n",
              "      <td>0.795228</td>\n",
              "      <td>-0.758380</td>\n",
              "      <td>-0.947223</td>\n",
              "      <td>0.457857</td>\n",
              "      <td>-1.163548</td>\n",
              "      <td>-1.127610</td>\n",
              "      <td>1.207835</td>\n",
              "      <td>-0.376231</td>\n",
              "      <td>1.128024</td>\n",
              "      <td>-0.270301</td>\n",
              "      <td>1.123676</td>\n",
              "      <td>-1.041526</td>\n",
              "      <td>0.141214</td>\n",
              "      <td>0.439585</td>\n",
              "      <td>-0.902389</td>\n",
              "      <td>-0.279458</td>\n",
              "      <td>9</td>\n",
              "    </tr>\n",
              "    <tr>\n",
              "      <th>129480</th>\n",
              "      <td>1</td>\n",
              "      <td>1.014931</td>\n",
              "      <td>-0.473495</td>\n",
              "      <td>1.228457</td>\n",
              "      <td>-0.669083</td>\n",
              "      <td>0.498589</td>\n",
              "      <td>0.833829</td>\n",
              "      <td>0.661169</td>\n",
              "      <td>0.795228</td>\n",
              "      <td>0.773117</td>\n",
              "      <td>1.327641</td>\n",
              "      <td>1.200825</td>\n",
              "      <td>1.132978</td>\n",
              "      <td>1.170241</td>\n",
              "      <td>1.207835</td>\n",
              "      <td>0.397718</td>\n",
              "      <td>0.263333</td>\n",
              "      <td>1.316301</td>\n",
              "      <td>0.255379</td>\n",
              "      <td>1.268621</td>\n",
              "      <td>-0.359673</td>\n",
              "      <td>-0.392329</td>\n",
              "      <td>-0.902389</td>\n",
              "      <td>-0.279458</td>\n",
              "      <td>9</td>\n",
              "    </tr>\n",
              "    <tr>\n",
              "      <th>129481</th>\n",
              "      <td>1</td>\n",
              "      <td>-0.985288</td>\n",
              "      <td>-0.473495</td>\n",
              "      <td>1.294605</td>\n",
              "      <td>-0.669083</td>\n",
              "      <td>-1.685697</td>\n",
              "      <td>1.551772</td>\n",
              "      <td>1.315972</td>\n",
              "      <td>1.487949</td>\n",
              "      <td>1.538865</td>\n",
              "      <td>-0.947223</td>\n",
              "      <td>-1.771045</td>\n",
              "      <td>-1.929057</td>\n",
              "      <td>0.404291</td>\n",
              "      <td>0.420898</td>\n",
              "      <td>0.397718</td>\n",
              "      <td>0.263333</td>\n",
              "      <td>-0.270301</td>\n",
              "      <td>0.255379</td>\n",
              "      <td>1.268621</td>\n",
              "      <td>-0.386036</td>\n",
              "      <td>-0.392329</td>\n",
              "      <td>-0.902389</td>\n",
              "      <td>-0.279458</td>\n",
              "      <td>9</td>\n",
              "    </tr>\n",
              "    <tr>\n",
              "      <th>129482</th>\n",
              "      <td>1</td>\n",
              "      <td>-0.985288</td>\n",
              "      <td>-0.473495</td>\n",
              "      <td>0.037786</td>\n",
              "      <td>-0.669083</td>\n",
              "      <td>-0.477182</td>\n",
              "      <td>-1.320000</td>\n",
              "      <td>-1.303239</td>\n",
              "      <td>-1.282937</td>\n",
              "      <td>-1.524128</td>\n",
              "      <td>1.327641</td>\n",
              "      <td>0.457857</td>\n",
              "      <td>1.132978</td>\n",
              "      <td>1.170241</td>\n",
              "      <td>1.207835</td>\n",
              "      <td>1.171668</td>\n",
              "      <td>1.128024</td>\n",
              "      <td>1.316301</td>\n",
              "      <td>1.123676</td>\n",
              "      <td>0.498572</td>\n",
              "      <td>-0.386036</td>\n",
              "      <td>-0.392329</td>\n",
              "      <td>-0.902389</td>\n",
              "      <td>-0.279458</td>\n",
              "      <td>9</td>\n",
              "    </tr>\n",
              "    <tr>\n",
              "      <th>129483</th>\n",
              "      <td>0</td>\n",
              "      <td>1.014931</td>\n",
              "      <td>-0.473495</td>\n",
              "      <td>-0.623697</td>\n",
              "      <td>-0.669083</td>\n",
              "      <td>3.261326</td>\n",
              "      <td>0.115886</td>\n",
              "      <td>1.315972</td>\n",
              "      <td>1.487949</td>\n",
              "      <td>1.538865</td>\n",
              "      <td>-0.188935</td>\n",
              "      <td>-0.285110</td>\n",
              "      <td>-0.398040</td>\n",
              "      <td>0.404291</td>\n",
              "      <td>0.420898</td>\n",
              "      <td>0.397718</td>\n",
              "      <td>0.263333</td>\n",
              "      <td>-0.270301</td>\n",
              "      <td>-1.481216</td>\n",
              "      <td>-0.271477</td>\n",
              "      <td>3.594696</td>\n",
              "      <td>3.429277</td>\n",
              "      <td>-0.902389</td>\n",
              "      <td>-0.279458</td>\n",
              "      <td>9</td>\n",
              "    </tr>\n",
              "    <tr>\n",
              "      <th>129484</th>\n",
              "      <td>1</td>\n",
              "      <td>-0.985288</td>\n",
              "      <td>-0.473495</td>\n",
              "      <td>0.765418</td>\n",
              "      <td>-0.669083</td>\n",
              "      <td>-1.829823</td>\n",
              "      <td>1.551772</td>\n",
              "      <td>1.315972</td>\n",
              "      <td>1.487949</td>\n",
              "      <td>1.538865</td>\n",
              "      <td>0.569353</td>\n",
              "      <td>0.457857</td>\n",
              "      <td>1.132978</td>\n",
              "      <td>1.170241</td>\n",
              "      <td>1.207835</td>\n",
              "      <td>1.171668</td>\n",
              "      <td>0.263333</td>\n",
              "      <td>1.316301</td>\n",
              "      <td>1.123676</td>\n",
              "      <td>-0.271477</td>\n",
              "      <td>-0.386036</td>\n",
              "      <td>-0.392329</td>\n",
              "      <td>-0.902389</td>\n",
              "      <td>-0.279458</td>\n",
              "      <td>9</td>\n",
              "    </tr>\n",
              "    <tr>\n",
              "      <th>129485</th>\n",
              "      <td>0</td>\n",
              "      <td>-0.985288</td>\n",
              "      <td>-0.473495</td>\n",
              "      <td>-0.491400</td>\n",
              "      <td>-0.669083</td>\n",
              "      <td>0.477165</td>\n",
              "      <td>-0.602057</td>\n",
              "      <td>0.006367</td>\n",
              "      <td>0.102506</td>\n",
              "      <td>0.007368</td>\n",
              "      <td>-0.947223</td>\n",
              "      <td>-1.028077</td>\n",
              "      <td>-1.163548</td>\n",
              "      <td>-1.127610</td>\n",
              "      <td>-1.939912</td>\n",
              "      <td>0.397718</td>\n",
              "      <td>0.263333</td>\n",
              "      <td>-1.856902</td>\n",
              "      <td>-0.612919</td>\n",
              "      <td>-1.041526</td>\n",
              "      <td>-0.386036</td>\n",
              "      <td>-0.392329</td>\n",
              "      <td>1.108170</td>\n",
              "      <td>-0.279458</td>\n",
              "      <td>9</td>\n",
              "    </tr>\n",
              "    <tr>\n",
              "      <th>129486</th>\n",
              "      <td>1</td>\n",
              "      <td>-0.985288</td>\n",
              "      <td>-0.473495</td>\n",
              "      <td>-1.748219</td>\n",
              "      <td>1.494583</td>\n",
              "      <td>-0.861843</td>\n",
              "      <td>-2.037943</td>\n",
              "      <td>1.315972</td>\n",
              "      <td>-1.975658</td>\n",
              "      <td>0.773117</td>\n",
              "      <td>1.327641</td>\n",
              "      <td>-2.514012</td>\n",
              "      <td>-0.398040</td>\n",
              "      <td>1.170241</td>\n",
              "      <td>1.207835</td>\n",
              "      <td>-0.376231</td>\n",
              "      <td>0.263333</td>\n",
              "      <td>1.316301</td>\n",
              "      <td>0.255379</td>\n",
              "      <td>1.268621</td>\n",
              "      <td>-0.386036</td>\n",
              "      <td>-0.392329</td>\n",
              "      <td>1.108170</td>\n",
              "      <td>-0.279458</td>\n",
              "      <td>9</td>\n",
              "    </tr>\n",
              "  </tbody>\n",
              "</table>\n",
              "</div>"
            ],
            "text/plain": [
              "        satisfaction    Gender  Customer Type  ...  Class_Eco  Class_Eco Plus  kfold\n",
              "129477             0 -0.985288      -0.473495  ...   1.108170       -0.279458      9\n",
              "129478             1 -0.985288      -0.473495  ...  -0.902389       -0.279458      9\n",
              "129479             1  1.014931       2.111957  ...  -0.902389       -0.279458      9\n",
              "129480             1  1.014931      -0.473495  ...  -0.902389       -0.279458      9\n",
              "129481             1 -0.985288      -0.473495  ...  -0.902389       -0.279458      9\n",
              "129482             1 -0.985288      -0.473495  ...  -0.902389       -0.279458      9\n",
              "129483             0  1.014931      -0.473495  ...  -0.902389       -0.279458      9\n",
              "129484             1 -0.985288      -0.473495  ...  -0.902389       -0.279458      9\n",
              "129485             0 -0.985288      -0.473495  ...   1.108170       -0.279458      9\n",
              "129486             1 -0.985288      -0.473495  ...   1.108170       -0.279458      9\n",
              "\n",
              "[10 rows x 25 columns]"
            ]
          },
          "metadata": {
            "tags": []
          },
          "execution_count": 110
        }
      ]
    },
    {
      "cell_type": "code",
      "metadata": {
        "id": "WvdV1oueJqH_"
      },
      "source": [
        ""
      ],
      "execution_count": 110,
      "outputs": []
    },
    {
      "cell_type": "markdown",
      "metadata": {
        "id": "WTz1cmY0KGd6"
      },
      "source": [
        "# Training, modelling and Validating"
      ]
    },
    {
      "cell_type": "code",
      "metadata": {
        "id": "mnn3v-tjKHNr"
      },
      "source": [
        "from sklearn import preprocessing"
      ],
      "execution_count": 111,
      "outputs": []
    },
    {
      "cell_type": "code",
      "metadata": {
        "id": "Xg0v9kW2KK6w"
      },
      "source": [
        "def run(df, fold, model,columns):\n",
        "\n",
        "  features = columns\n",
        "  #features = feature_selection_(df.iloc[:,:-2].values,df.Class)\n",
        "  \n",
        "\n",
        "  \"\"\"getting train and validation data. keeping the fold value in validation set \n",
        "  and remaining in training set\"\"\"\n",
        "  df_train = df[df.kfold != fold].reset_index(drop = True)\n",
        "  df_valid = df[df.kfold == fold].reset_index(drop = True)\n",
        "\n",
        "  \"\"\" training data\"\"\"\n",
        "  X_train = df_train[features]\n",
        "  X_valid = df_valid[features]\n",
        "\n",
        "  \"\"\" target class\"\"\"\n",
        "  y_train = df_train['satisfaction']\n",
        "  y_test = df_valid['satisfaction']\n",
        "\n",
        "  \"\"\"model fitting\"\"\"\n",
        "  model.fit(X_train, y_train)\n",
        "\n",
        "  \"\"\" predicting values using trained model\"\"\"\n",
        "  y_pred = model.predict(X_valid)\n",
        "\n",
        "  \"\"\"calculating auc score for classification problem\"\"\"\n",
        "  acc = accuracy_score(y_test, y_pred)\n",
        "  \n",
        "\n",
        "  print(\"Fold={} accuracy ={}\\n\".format(fold,acc))\n",
        "  print('Confusion Matrix is\\n\\n',confusion_matrix(y_test,y_pred))\n",
        "  \n"
      ],
      "execution_count": 112,
      "outputs": []
    },
    {
      "cell_type": "code",
      "metadata": {
        "id": "6PcpYj0rKLVI"
      },
      "source": [
        ""
      ],
      "execution_count": 112,
      "outputs": []
    },
    {
      "cell_type": "markdown",
      "metadata": {
        "id": "s7K_4VcRLAaR"
      },
      "source": [
        "## MODELLING"
      ]
    },
    {
      "cell_type": "code",
      "metadata": {
        "id": "zPRE4xryxH9e"
      },
      "source": [
        ""
      ],
      "execution_count": 112,
      "outputs": []
    },
    {
      "cell_type": "markdown",
      "metadata": {
        "id": "KMZkpzifnxL2"
      },
      "source": [
        "### i. LOGISTIC REGRESSION"
      ]
    },
    {
      "cell_type": "code",
      "metadata": {
        "id": "cFJc8hwontdp"
      },
      "source": [
        "from sklearn.linear_model import LogisticRegression"
      ],
      "execution_count": 113,
      "outputs": []
    },
    {
      "cell_type": "code",
      "metadata": {
        "id": "u-v2ST4WntgN"
      },
      "source": [
        "log_reg1=LogisticRegression(max_iter=2500)"
      ],
      "execution_count": 114,
      "outputs": []
    },
    {
      "cell_type": "markdown",
      "metadata": {
        "id": "1xTkGIvtCGz4"
      },
      "source": [
        ""
      ]
    },
    {
      "cell_type": "code",
      "metadata": {
        "colab": {
          "base_uri": "https://localhost:8080/"
        },
        "id": "j548_5pRntjE",
        "outputId": "3a0ea7f8-4f66-48b9-e232-4485bc53e07a"
      },
      "source": [
        "for fold in range(10):\n",
        "  run(data, fold, log_reg1,columns)"
      ],
      "execution_count": 115,
      "outputs": [
        {
          "output_type": "stream",
          "text": [
            "Fold=0 accuracy =0.8335006564213453\n",
            "\n",
            "Confusion Matrix is\n",
            "\n",
            " [[4762 1098]\n",
            " [1058 6031]]\n",
            "Fold=1 accuracy =0.8320333616495482\n",
            "\n",
            "Confusion Matrix is\n",
            "\n",
            " [[4788 1072]\n",
            " [1103 5986]]\n",
            "Fold=2 accuracy =0.8365896980461812\n",
            "\n",
            "Confusion Matrix is\n",
            "\n",
            " [[4803 1058]\n",
            " [1058 6030]]\n",
            "Fold=3 accuracy =0.8341184647463125\n",
            "\n",
            "Confusion Matrix is\n",
            "\n",
            " [[4813 1048]\n",
            " [1100 5988]]\n",
            "Fold=4 accuracy =0.8387520271835663\n",
            "\n",
            "Confusion Matrix is\n",
            "\n",
            " [[4826 1035]\n",
            " [1053 6035]]\n",
            "Fold=5 accuracy =0.8370530542899065\n",
            "\n",
            "Confusion Matrix is\n",
            "\n",
            " [[4808 1053]\n",
            " [1057 6031]]\n",
            "Fold=6 accuracy =0.8330373001776199\n",
            "\n",
            "Confusion Matrix is\n",
            "\n",
            " [[4781 1080]\n",
            " [1082 6006]]\n",
            "Fold=7 accuracy =0.8332561013283905\n",
            "\n",
            "Confusion Matrix is\n",
            "\n",
            " [[4755 1105]\n",
            " [1054 6034]]\n",
            "Fold=8 accuracy =0.8337967253629904\n",
            "\n",
            "Confusion Matrix is\n",
            "\n",
            " [[4744 1116]\n",
            " [1036 6052]]\n",
            "Fold=9 accuracy =0.8435279579857893\n",
            "\n",
            "Confusion Matrix is\n",
            "\n",
            " [[4816 1044]\n",
            " [ 982 6106]]\n"
          ],
          "name": "stdout"
        }
      ]
    },
    {
      "cell_type": "markdown",
      "metadata": {
        "id": "4Ume8n5gqL7z"
      },
      "source": [
        "### ii. K-NEIGHBOURS "
      ]
    },
    {
      "cell_type": "code",
      "metadata": {
        "id": "6bleiTYbntlP"
      },
      "source": [
        "from sklearn.neighbors import KNeighborsClassifier"
      ],
      "execution_count": 116,
      "outputs": []
    },
    {
      "cell_type": "code",
      "metadata": {
        "colab": {
          "base_uri": "https://localhost:8080/"
        },
        "id": "SZrgBmNXntno",
        "outputId": "31b32605-620d-4190-c960-c607c488526a"
      },
      "source": [
        "for k in range(10,15):\n",
        "  knn = KNeighborsClassifier(n_neighbors=k,metric='minkowski',p=2, n_jobs=-1) \n",
        "  print(\"k=\",k)\n",
        "  for fold in range(1):\n",
        "    run(data, fold, knn,columns)"
      ],
      "execution_count": 117,
      "outputs": [
        {
          "output_type": "stream",
          "text": [
            "k= 10\n",
            "Fold=0 accuracy =0.9267897134913893\n",
            "\n",
            "Confusion Matrix is\n",
            "\n",
            " [[5610  250]\n",
            " [ 698 6391]]\n",
            "k= 11\n",
            "Fold=0 accuracy =0.9281025561819446\n",
            "\n",
            "Confusion Matrix is\n",
            "\n",
            " [[5537  323]\n",
            " [ 608 6481]]\n",
            "k= 12\n",
            "Fold=0 accuracy =0.926249131207043\n",
            "\n",
            "Confusion Matrix is\n",
            "\n",
            " [[5589  271]\n",
            " [ 684 6405]]\n",
            "k= 13\n",
            "Fold=0 accuracy =0.9273302957757356\n",
            "\n",
            "Confusion Matrix is\n",
            "\n",
            " [[5529  331]\n",
            " [ 610 6479]]\n",
            "k= 14\n",
            "Fold=0 accuracy =0.9251679666383504\n",
            "\n",
            "Confusion Matrix is\n",
            "\n",
            " [[5565  295]\n",
            " [ 674 6415]]\n"
          ],
          "name": "stdout"
        }
      ]
    },
    {
      "cell_type": "markdown",
      "metadata": {
        "id": "6phIyGXsu9MT"
      },
      "source": [
        "we see that we get a good accuracy score (92.4086%) when the number of nearest neighbours is 11."
      ]
    },
    {
      "cell_type": "code",
      "metadata": {
        "id": "PcGiIJyFntqW"
      },
      "source": [
        ""
      ],
      "execution_count": 117,
      "outputs": []
    },
    {
      "cell_type": "markdown",
      "metadata": {
        "id": "LCgAqF-vvMeA"
      },
      "source": [
        "### iii. DECISION TREES"
      ]
    },
    {
      "cell_type": "code",
      "metadata": {
        "id": "DxADchRmntxV"
      },
      "source": [
        "from sklearn.tree import DecisionTreeClassifier"
      ],
      "execution_count": 118,
      "outputs": []
    },
    {
      "cell_type": "code",
      "metadata": {
        "id": "hPs3V9v9vSvu"
      },
      "source": [
        "dtc = DecisionTreeClassifier(criterion='entropy', max_depth=25 ,max_leaf_nodes=1000)"
      ],
      "execution_count": 119,
      "outputs": []
    },
    {
      "cell_type": "code",
      "metadata": {
        "colab": {
          "base_uri": "https://localhost:8080/"
        },
        "id": "7zGsn275vb5G",
        "outputId": "70841e8d-519e-41cd-aedc-4692b4f631de"
      },
      "source": [
        "for fold in range(10):\n",
        "  run(data, fold, dtc,columns)"
      ],
      "execution_count": 120,
      "outputs": [
        {
          "output_type": "stream",
          "text": [
            "Fold=0 accuracy =0.9497258475557958\n",
            "\n",
            "Confusion Matrix is\n",
            "\n",
            " [[5599  261]\n",
            " [ 390 6699]]\n",
            "Fold=1 accuracy =0.9500347517182794\n",
            "\n",
            "Confusion Matrix is\n",
            "\n",
            " [[5604  256]\n",
            " [ 391 6698]]\n",
            "Fold=2 accuracy =0.9483357788246196\n",
            "\n",
            "Confusion Matrix is\n",
            "\n",
            " [[5607  254]\n",
            " [ 415 6673]]\n",
            "Fold=3 accuracy =0.9453239632404047\n",
            "\n",
            "Confusion Matrix is\n",
            "\n",
            " [[5580  281]\n",
            " [ 427 6661]]\n",
            "Fold=4 accuracy =0.9491852652714495\n",
            "\n",
            "Confusion Matrix is\n",
            "\n",
            " [[5638  223]\n",
            " [ 435 6653]]\n",
            "Fold=5 accuracy =0.945015059077921\n",
            "\n",
            "Confusion Matrix is\n",
            "\n",
            " [[5604  257]\n",
            " [ 455 6633]]\n",
            "Fold=6 accuracy =0.9447061549154375\n",
            "\n",
            "Confusion Matrix is\n",
            "\n",
            " [[5608  253]\n",
            " [ 463 6625]]\n",
            "Fold=7 accuracy =0.9452425084955205\n",
            "\n",
            "Confusion Matrix is\n",
            "\n",
            " [[5604  256]\n",
            " [ 453 6635]]\n",
            "Fold=8 accuracy =0.9463237565647205\n",
            "\n",
            "Confusion Matrix is\n",
            "\n",
            " [[5601  259]\n",
            " [ 436 6652]]\n",
            "Fold=9 accuracy =0.9481773246833488\n",
            "\n",
            "Confusion Matrix is\n",
            "\n",
            " [[5593  267]\n",
            " [ 404 6684]]\n"
          ],
          "name": "stdout"
        }
      ]
    },
    {
      "cell_type": "code",
      "metadata": {
        "id": "ig5AMkDuvjb4"
      },
      "source": [
        ""
      ],
      "execution_count": 120,
      "outputs": []
    },
    {
      "cell_type": "markdown",
      "metadata": {
        "id": "FXWBiCiavuYZ"
      },
      "source": [
        "### iv. RANDOM FORESTS"
      ]
    },
    {
      "cell_type": "code",
      "metadata": {
        "id": "GDryYZjxvs7o"
      },
      "source": [
        "from sklearn.ensemble import RandomForestClassifier"
      ],
      "execution_count": 121,
      "outputs": []
    },
    {
      "cell_type": "code",
      "metadata": {
        "id": "CklZS-J4vs-Q"
      },
      "source": [
        "rfc = RandomForestClassifier(n_estimators=40, criterion='entropy', max_depth=40,max_leaf_nodes=4100)"
      ],
      "execution_count": 122,
      "outputs": []
    },
    {
      "cell_type": "code",
      "metadata": {
        "colab": {
          "base_uri": "https://localhost:8080/"
        },
        "id": "6upwm7ZkvtBI",
        "outputId": "cd2919aa-7fcb-43ee-e678-a6fb73a2bb23"
      },
      "source": [
        "for fold in range(10):\n",
        "  run(data, fold, rfc,columns)"
      ],
      "execution_count": 123,
      "outputs": [
        {
          "output_type": "stream",
          "text": [
            "Fold=0 accuracy =0.9568306432929183\n",
            "\n",
            "Confusion Matrix is\n",
            "\n",
            " [[5620  240]\n",
            " [ 319 6770]]\n",
            "Fold=1 accuracy =0.9572167734960229\n",
            "\n",
            "Confusion Matrix is\n",
            "\n",
            " [[5627  233]\n",
            " [ 321 6768]]\n",
            "Fold=2 accuracy =0.9576801297397483\n",
            "\n",
            "Confusion Matrix is\n",
            "\n",
            " [[5637  224]\n",
            " [ 324 6764]]\n",
            "Fold=3 accuracy =0.9521970808556646\n",
            "\n",
            "Confusion Matrix is\n",
            "\n",
            " [[5629  232]\n",
            " [ 387 6701]]\n",
            "Fold=4 accuracy =0.9554405745617423\n",
            "\n",
            "Confusion Matrix is\n",
            "\n",
            " [[5634  227]\n",
            " [ 350 6738]]\n",
            "Fold=5 accuracy =0.9557494787242258\n",
            "\n",
            "Confusion Matrix is\n",
            "\n",
            " [[5626  235]\n",
            " [ 338 6750]]\n",
            "Fold=6 accuracy =0.9562900610085721\n",
            "\n",
            "Confusion Matrix is\n",
            "\n",
            " [[5640  221]\n",
            " [ 345 6743]]\n",
            "Fold=7 accuracy =0.9555915971578622\n",
            "\n",
            "Confusion Matrix is\n",
            "\n",
            " [[5625  235]\n",
            " [ 340 6748]]\n",
            "Fold=8 accuracy =0.9562866852023478\n",
            "\n",
            "Confusion Matrix is\n",
            "\n",
            " [[5628  232]\n",
            " [ 334 6754]]\n",
            "Fold=9 accuracy =0.9601482854494903\n",
            "\n",
            "Confusion Matrix is\n",
            "\n",
            " [[5662  198]\n",
            " [ 318 6770]]\n"
          ],
          "name": "stdout"
        }
      ]
    },
    {
      "cell_type": "code",
      "metadata": {
        "id": "KFEA7OGEvtGl"
      },
      "source": [
        ""
      ],
      "execution_count": 123,
      "outputs": []
    },
    {
      "cell_type": "markdown",
      "metadata": {
        "id": "9Er5Pgu10b8O"
      },
      "source": [
        "## CONCLUSION"
      ]
    },
    {
      "cell_type": "markdown",
      "metadata": {
        "id": "HpN3msFo0fK3"
      },
      "source": [
        "In the problem to classifiy customers review based on their travel experience, we have developed multiple classification models. <br>\n",
        "\n",
        "\n",
        "1.   Logistic Regression: had an average accuracy score of \n",
        "2.   List item\n",
        "\n"
      ]
    },
    {
      "cell_type": "code",
      "metadata": {
        "id": "pCmwb4_90bJ0"
      },
      "source": [
        ""
      ],
      "execution_count": 123,
      "outputs": []
    },
    {
      "cell_type": "code",
      "metadata": {
        "id": "ZdkTvRn_0bML"
      },
      "source": [
        ""
      ],
      "execution_count": 123,
      "outputs": []
    },
    {
      "cell_type": "markdown",
      "metadata": {
        "id": "97mZV21rBWa7"
      },
      "source": [
        "## PLOT BOUNDARY"
      ]
    },
    {
      "cell_type": "code",
      "metadata": {
        "id": "-X01DlcO0bO0"
      },
      "source": [
        "def plot_boundary(X, y, fitted_model):\n",
        "\n",
        "    plt.figure(figsize=(9.8,5), dpi=100)\n",
        "    \n",
        "    for i, plot_type in enumerate(['Decision Boundary', 'Decision Probabilities']):\n",
        "        plt.subplot(1,2,i+1)\n",
        "\n",
        "        mesh_step_size = 0.01  # step size in the mesh\n",
        "        x_min, x_max = X[:, 0].min() - .1, X[:, 0].max() + .1\n",
        "        y_min, y_max = X[:, 1].min() - .1, X[:, 1].max() + .1\n",
        "        xx, yy = np.meshgrid(np.arange(x_min, x_max, mesh_step_size), np.arange(y_min, y_max, mesh_step_size))\n",
        "        if i == 0:\n",
        "            Z = fitted_model.predict(np.c_[xx.ravel(), yy.ravel()])\n",
        "        else:\n",
        "            try:\n",
        "                Z = fitted_model.predict_proba(np.c_[xx.ravel(), yy.ravel()])[:,1]\n",
        "            except:\n",
        "                plt.text(0.4, 0.5, 'Probabilities Unavailable', horizontalalignment='center',\n",
        "                     verticalalignment='center', transform = plt.gca().transAxes, fontsize=12)\n",
        "                plt.axis('off')\n",
        "                break\n",
        "        Z = Z.reshape(xx.shape)\n",
        "        plt.scatter(X[y.values==0,0], X[y.values==0,1], alpha=0.4, label='Not Purchased', s=5)\n",
        "        plt.scatter(X[y.values==1,0], X[y.values==1,1], alpha=0.4, label='Purchased', s=5)\n",
        "        plt.imshow(Z, interpolation='nearest', cmap='RdYlBu_r', alpha=0.15, \n",
        "                   extent=(x_min, x_max, y_min, y_max), origin='lower')\n",
        "        plt.xlabel('Age')\n",
        "        plt.ylabel('Salary')\n",
        "        plt.title(plot_type + '\\n' + \n",
        "                  str(fitted_model).split('(')[0]+ ' Test Accuracy: ' + str(np.round(fitted_model.score(X, y), 5)))\n",
        "        plt.gca().set_aspect('equal');\n",
        "        \n",
        "    plt.tight_layout()\n",
        "    plt.subplots_adjust(top=0.9, bottom=0.08, wspace=0.02)"
      ],
      "execution_count": 124,
      "outputs": []
    },
    {
      "cell_type": "code",
      "metadata": {
        "id": "J6WQIkYpBaqR"
      },
      "source": [
        ""
      ],
      "execution_count": 124,
      "outputs": []
    }
  ]
}